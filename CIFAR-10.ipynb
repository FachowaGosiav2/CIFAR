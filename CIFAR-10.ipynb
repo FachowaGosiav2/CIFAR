{
 "cells": [
  {
   "cell_type": "code",
   "execution_count": 1,
   "metadata": {},
   "outputs": [],
   "source": [
    "import keras_tuner as kt\n",
    "import tensorflow as tf\n",
    "from tensorflow import keras\n",
    "import pandas as pd\n",
    "import numpy as np \n",
    "from pathlib import Path"
   ]
  },
  {
   "attachments": {},
   "cell_type": "markdown",
   "metadata": {},
   "source": [
    "Label\tDescription\n",
    "0\tairplane\n",
    "1\tautomobile\n",
    "2\tbird\n",
    "3\tcat\n",
    "4\tdeer\n",
    "5\tdog\n",
    "6\tfrog\n",
    "7\thorse\n",
    "8\tship\n",
    "9\ttruck\n",
    "\n",
    "Nadam(learning_rate=1e-4) the best\n"
   ]
  },
  {
   "cell_type": "code",
   "execution_count": 2,
   "metadata": {},
   "outputs": [],
   "source": [
    "(X_train, y_train), (X_test, y_test) = keras.datasets.cifar10.load_data()\n",
    "assert X_train.shape == (50000, 32, 32, 3)\n",
    "assert X_test.shape == (10000, 32, 32, 3)\n",
    "assert y_train.shape == (50000, 1)\n",
    "assert y_test.shape == (10000, 1)"
   ]
  },
  {
   "cell_type": "code",
   "execution_count": 3,
   "metadata": {},
   "outputs": [],
   "source": [
    "import keras_tuner as kt\n",
    "from keras.layers import Normalization, Dense, BatchNormalization, Flatten, Activation\n",
    "from keras import Sequential\n",
    "from keras.activations import relu, softmax, sigmoid, swish\n",
    "from keras.optimizers import Nadam\n",
    "from keras.initializers import he_normal\n",
    "from keras.metrics import sparse_categorical_crossentropy\n",
    "from keras.callbacks import EarlyStopping, ModelCheckpoint"
   ]
  },
  {
   "cell_type": "code",
   "execution_count": 4,
   "metadata": {},
   "outputs": [],
   "source": [
    "tf.keras.backend.clear_session()\n",
    "tf.random.set_seed(42)"
   ]
  },
  {
   "cell_type": "code",
   "execution_count": 5,
   "metadata": {},
   "outputs": [
    {
     "data": {
      "text/plain": [
       "Reusing TensorBoard on port 6006 (pid 4020), started 17:56:26 ago. (Use '!kill 4020' to kill it.)"
      ]
     },
     "metadata": {},
     "output_type": "display_data"
    },
    {
     "data": {
      "text/html": [
       "\n",
       "      <iframe id=\"tensorboard-frame-4c54f2d3f1fb0c7b\" width=\"100%\" height=\"800\" frameborder=\"0\">\n",
       "      </iframe>\n",
       "      <script>\n",
       "        (function() {\n",
       "          const frame = document.getElementById(\"tensorboard-frame-4c54f2d3f1fb0c7b\");\n",
       "          const url = new URL(\"http://localhost\");\n",
       "          const port = 6006;\n",
       "          if (port) {\n",
       "            url.port = port;\n",
       "          }\n",
       "          frame.src = url;\n",
       "        })();\n",
       "      </script>\n",
       "    "
      ],
      "text/plain": [
       "<IPython.core.display.HTML object>"
      ]
     },
     "metadata": {},
     "output_type": "display_data"
    },
    {
     "name": "stdout",
     "output_type": "stream",
     "text": [
      "Epoch 1/20\n",
      "1562/1563 [============================>.] - ETA: 0s - loss: 338810.1875 - accuracy: 0.0995WARNING:tensorflow:Early stopping conditioned on metric `val_loss` which is not available. Available metrics are: loss,accuracy\n",
      "WARNING:tensorflow:Can save best model only with val_loss available, skipping.\n",
      "1563/1563 [==============================] - 12s 6ms/step - loss: 338701.7500 - accuracy: 0.0995\n",
      "Epoch 2/20\n",
      "1555/1563 [============================>.] - ETA: 0s - loss: 2.3073 - accuracy: 0.0988WARNING:tensorflow:Early stopping conditioned on metric `val_loss` which is not available. Available metrics are: loss,accuracy\n",
      "WARNING:tensorflow:Can save best model only with val_loss available, skipping.\n",
      "1563/1563 [==============================] - 9s 6ms/step - loss: 2.3073 - accuracy: 0.0988\n",
      "Epoch 3/20\n",
      "1557/1563 [============================>.] - ETA: 0s - loss: 2.3079 - accuracy: 0.1010WARNING:tensorflow:Early stopping conditioned on metric `val_loss` which is not available. Available metrics are: loss,accuracy\n",
      "WARNING:tensorflow:Can save best model only with val_loss available, skipping.\n",
      "1563/1563 [==============================] - 9s 5ms/step - loss: 2.3079 - accuracy: 0.1010\n",
      "Epoch 4/20\n",
      "1555/1563 [============================>.] - ETA: 0s - loss: 2.3085 - accuracy: 0.0997WARNING:tensorflow:Early stopping conditioned on metric `val_loss` which is not available. Available metrics are: loss,accuracy\n",
      "WARNING:tensorflow:Can save best model only with val_loss available, skipping.\n",
      "1563/1563 [==============================] - 9s 6ms/step - loss: 2.3085 - accuracy: 0.0997\n",
      "Epoch 5/20\n",
      "1560/1563 [============================>.] - ETA: 0s - loss: 2.3083 - accuracy: 0.1004WARNING:tensorflow:Early stopping conditioned on metric `val_loss` which is not available. Available metrics are: loss,accuracy\n",
      "WARNING:tensorflow:Can save best model only with val_loss available, skipping.\n",
      "1563/1563 [==============================] - 9s 5ms/step - loss: 2.3083 - accuracy: 0.1004\n",
      "Epoch 6/20\n",
      "1556/1563 [============================>.] - ETA: 0s - loss: 2.3084 - accuracy: 0.1008WARNING:tensorflow:Early stopping conditioned on metric `val_loss` which is not available. Available metrics are: loss,accuracy\n",
      "WARNING:tensorflow:Can save best model only with val_loss available, skipping.\n",
      "1563/1563 [==============================] - 9s 6ms/step - loss: 2.3084 - accuracy: 0.1008\n",
      "Epoch 7/20\n",
      "1556/1563 [============================>.] - ETA: 0s - loss: 2.3087 - accuracy: 0.1006WARNING:tensorflow:Early stopping conditioned on metric `val_loss` which is not available. Available metrics are: loss,accuracy\n",
      "WARNING:tensorflow:Can save best model only with val_loss available, skipping.\n",
      "1563/1563 [==============================] - 9s 5ms/step - loss: 2.3087 - accuracy: 0.1004\n",
      "Epoch 8/20\n",
      "1563/1563 [==============================] - ETA: 0s - loss: 2.3087 - accuracy: 0.0998WARNING:tensorflow:Early stopping conditioned on metric `val_loss` which is not available. Available metrics are: loss,accuracy\n",
      "WARNING:tensorflow:Can save best model only with val_loss available, skipping.\n",
      "1563/1563 [==============================] - 9s 5ms/step - loss: 2.3087 - accuracy: 0.0998\n",
      "Epoch 9/20\n",
      "1559/1563 [============================>.] - ETA: 0s - loss: 2.3087 - accuracy: 0.0994WARNING:tensorflow:Early stopping conditioned on metric `val_loss` which is not available. Available metrics are: loss,accuracy\n",
      "WARNING:tensorflow:Can save best model only with val_loss available, skipping.\n",
      "1563/1563 [==============================] - 9s 6ms/step - loss: 2.3086 - accuracy: 0.0994\n",
      "Epoch 10/20\n",
      "1557/1563 [============================>.] - ETA: 0s - loss: 2.3087 - accuracy: 0.1011WARNING:tensorflow:Early stopping conditioned on metric `val_loss` which is not available. Available metrics are: loss,accuracy\n",
      "WARNING:tensorflow:Can save best model only with val_loss available, skipping.\n",
      "1563/1563 [==============================] - 9s 5ms/step - loss: 2.3087 - accuracy: 0.1011\n",
      "Epoch 11/20\n",
      "1557/1563 [============================>.] - ETA: 0s - loss: 2.3090 - accuracy: 0.0996WARNING:tensorflow:Early stopping conditioned on metric `val_loss` which is not available. Available metrics are: loss,accuracy\n",
      "WARNING:tensorflow:Can save best model only with val_loss available, skipping.\n",
      "1563/1563 [==============================] - 9s 5ms/step - loss: 2.3089 - accuracy: 0.0995\n",
      "Epoch 12/20\n",
      "1560/1563 [============================>.] - ETA: 0s - loss: 2.3087 - accuracy: 0.0999WARNING:tensorflow:Early stopping conditioned on metric `val_loss` which is not available. Available metrics are: loss,accuracy\n",
      "WARNING:tensorflow:Can save best model only with val_loss available, skipping.\n",
      "1563/1563 [==============================] - 9s 6ms/step - loss: 2.3087 - accuracy: 0.0999\n",
      "Epoch 13/20\n",
      "1556/1563 [============================>.] - ETA: 0s - loss: 2.3086 - accuracy: 0.0991WARNING:tensorflow:Early stopping conditioned on metric `val_loss` which is not available. Available metrics are: loss,accuracy\n",
      "WARNING:tensorflow:Can save best model only with val_loss available, skipping.\n",
      "1563/1563 [==============================] - 9s 6ms/step - loss: 2.3086 - accuracy: 0.0992\n",
      "Epoch 14/20\n",
      "1558/1563 [============================>.] - ETA: 0s - loss: 2.3090 - accuracy: 0.0984WARNING:tensorflow:Early stopping conditioned on metric `val_loss` which is not available. Available metrics are: loss,accuracy\n",
      "WARNING:tensorflow:Can save best model only with val_loss available, skipping.\n",
      "1563/1563 [==============================] - 8s 5ms/step - loss: 2.3090 - accuracy: 0.0985\n",
      "Epoch 15/20\n",
      "1563/1563 [==============================] - ETA: 0s - loss: 2.3084 - accuracy: 0.1020WARNING:tensorflow:Early stopping conditioned on metric `val_loss` which is not available. Available metrics are: loss,accuracy\n",
      "WARNING:tensorflow:Can save best model only with val_loss available, skipping.\n",
      "1563/1563 [==============================] - 9s 5ms/step - loss: 2.3084 - accuracy: 0.1020\n",
      "Epoch 16/20\n",
      "1562/1563 [============================>.] - ETA: 0s - loss: 2.3088 - accuracy: 0.1009WARNING:tensorflow:Early stopping conditioned on metric `val_loss` which is not available. Available metrics are: loss,accuracy\n",
      "WARNING:tensorflow:Can save best model only with val_loss available, skipping.\n",
      "1563/1563 [==============================] - 9s 6ms/step - loss: 2.3088 - accuracy: 0.1008\n",
      "Epoch 17/20\n",
      "1563/1563 [==============================] - ETA: 0s - loss: 2.3087 - accuracy: 0.1023WARNING:tensorflow:Early stopping conditioned on metric `val_loss` which is not available. Available metrics are: loss,accuracy\n",
      "WARNING:tensorflow:Can save best model only with val_loss available, skipping.\n",
      "1563/1563 [==============================] - 9s 6ms/step - loss: 2.3087 - accuracy: 0.1023\n",
      "Epoch 18/20\n",
      "1561/1563 [============================>.] - ETA: 0s - loss: 2.3085 - accuracy: 0.1002WARNING:tensorflow:Early stopping conditioned on metric `val_loss` which is not available. Available metrics are: loss,accuracy\n",
      "WARNING:tensorflow:Can save best model only with val_loss available, skipping.\n",
      "1563/1563 [==============================] - 9s 6ms/step - loss: 2.3085 - accuracy: 0.1001\n",
      "Epoch 19/20\n",
      "1563/1563 [==============================] - ETA: 0s - loss: 2.3087 - accuracy: 0.0991WARNING:tensorflow:Early stopping conditioned on metric `val_loss` which is not available. Available metrics are: loss,accuracy\n",
      "WARNING:tensorflow:Can save best model only with val_loss available, skipping.\n",
      "1563/1563 [==============================] - 9s 6ms/step - loss: 2.3087 - accuracy: 0.0991\n",
      "Epoch 20/20\n",
      "1557/1563 [============================>.] - ETA: 0s - loss: 2.3088 - accuracy: 0.0985WARNING:tensorflow:Early stopping conditioned on metric `val_loss` which is not available. Available metrics are: loss,accuracy\n",
      "WARNING:tensorflow:Can save best model only with val_loss available, skipping.\n",
      "1563/1563 [==============================] - 10s 6ms/step - loss: 2.3088 - accuracy: 0.0985\n"
     ]
    },
    {
     "data": {
      "text/plain": [
       "<keras.callbacks.History at 0x1d17bc5a0d0>"
      ]
     },
     "execution_count": 5,
     "metadata": {},
     "output_type": "execute_result"
    }
   ],
   "source": [
    "model = Sequential()\n",
    "model.add(Flatten(input_shape=[32, 32, 3]))\n",
    "for _ in range(20):\n",
    "    model.add(Dense(100,\n",
    "                    activation=\"swish\",\n",
    "                    kernel_initializer=\"he_normal\"))\n",
    "model.add(Dense(10, activation=softmax))\n",
    "\n",
    "optimizer = Nadam(learning_rate=5e-2)\n",
    "model.compile(loss=sparse_categorical_crossentropy,\n",
    "              optimizer=optimizer,\n",
    "              metrics=[\"accuracy\"])\n",
    "\n",
    "early_stopping_cb = EarlyStopping(patience=20,\n",
    "                                  restore_best_weights=True)\n",
    "model_checkpoint_cb = ModelCheckpoint('chack',\n",
    "                                      save_best_only=True)\n",
    "run_index = 1 # increment every time you train the model\n",
    "run_logdir = Path() / \"my_cifar10_logs\" / f\"run_{run_index:03d}\"\n",
    "tensorboard_cb = tf.keras.callbacks.TensorBoard(run_logdir)\n",
    "callbacks = [early_stopping_cb, model_checkpoint_cb, tensorboard_cb]\n",
    "\n",
    "%load_ext tensorboard\n",
    "%tensorboard --logdir=./my_cifar10_logs\n",
    "\n",
    "model.fit(X_train, y_train, epochs=20,\n",
    "          validation_batch_size=0.2,\n",
    "          callbacks=callbacks)"
   ]
  },
  {
   "cell_type": "code",
   "execution_count": 6,
   "metadata": {},
   "outputs": [],
   "source": [
    "tf.keras.backend.clear_session()\n",
    "tf.random.set_seed(42)"
   ]
  },
  {
   "cell_type": "code",
   "execution_count": 7,
   "metadata": {},
   "outputs": [
    {
     "name": "stdout",
     "output_type": "stream",
     "text": [
      "The tensorboard extension is already loaded. To reload it, use:\n",
      "  %reload_ext tensorboard\n"
     ]
    },
    {
     "data": {
      "text/plain": [
       "Reusing TensorBoard on port 6006 (pid 4020), started 17:59:25 ago. (Use '!kill 4020' to kill it.)"
      ]
     },
     "metadata": {},
     "output_type": "display_data"
    },
    {
     "data": {
      "text/html": [
       "\n",
       "      <iframe id=\"tensorboard-frame-81ca6ca28b2ac762\" width=\"100%\" height=\"800\" frameborder=\"0\">\n",
       "      </iframe>\n",
       "      <script>\n",
       "        (function() {\n",
       "          const frame = document.getElementById(\"tensorboard-frame-81ca6ca28b2ac762\");\n",
       "          const url = new URL(\"http://localhost\");\n",
       "          const port = 6006;\n",
       "          if (port) {\n",
       "            url.port = port;\n",
       "          }\n",
       "          frame.src = url;\n",
       "        })();\n",
       "      </script>\n",
       "    "
      ],
      "text/plain": [
       "<IPython.core.display.HTML object>"
      ]
     },
     "metadata": {},
     "output_type": "display_data"
    },
    {
     "name": "stdout",
     "output_type": "stream",
     "text": [
      "Epoch 1/20\n",
      "1557/1563 [============================>.] - ETA: 0s - loss: 101.8179 - accuracy: 0.1233WARNING:tensorflow:Early stopping conditioned on metric `val_loss` which is not available. Available metrics are: loss,accuracy\n",
      "WARNING:tensorflow:Can save best model only with val_loss available, skipping.\n",
      "1563/1563 [==============================] - 12s 6ms/step - loss: 101.4676 - accuracy: 0.1231\n",
      "Epoch 2/20\n",
      "1559/1563 [============================>.] - ETA: 0s - loss: 2.3090 - accuracy: 0.0992WARNING:tensorflow:Early stopping conditioned on metric `val_loss` which is not available. Available metrics are: loss,accuracy\n",
      "WARNING:tensorflow:Can save best model only with val_loss available, skipping.\n",
      "1563/1563 [==============================] - 9s 6ms/step - loss: 2.3090 - accuracy: 0.0992\n",
      "Epoch 3/20\n",
      "1561/1563 [============================>.] - ETA: 0s - loss: 2.3084 - accuracy: 0.0985WARNING:tensorflow:Early stopping conditioned on metric `val_loss` which is not available. Available metrics are: loss,accuracy\n",
      "WARNING:tensorflow:Can save best model only with val_loss available, skipping.\n",
      "1563/1563 [==============================] - 11s 7ms/step - loss: 2.3084 - accuracy: 0.0985\n",
      "Epoch 4/20\n",
      "1561/1563 [============================>.] - ETA: 0s - loss: 2.3086 - accuracy: 0.0992WARNING:tensorflow:Early stopping conditioned on metric `val_loss` which is not available. Available metrics are: loss,accuracy\n",
      "WARNING:tensorflow:Can save best model only with val_loss available, skipping.\n",
      "1563/1563 [==============================] - 11s 7ms/step - loss: 2.3086 - accuracy: 0.0992\n",
      "Epoch 5/20\n",
      "1560/1563 [============================>.] - ETA: 0s - loss: 2.3082 - accuracy: 0.0989WARNING:tensorflow:Early stopping conditioned on metric `val_loss` which is not available. Available metrics are: loss,accuracy\n",
      "WARNING:tensorflow:Can save best model only with val_loss available, skipping.\n",
      "1563/1563 [==============================] - 10s 6ms/step - loss: 2.3082 - accuracy: 0.0989\n",
      "Epoch 6/20\n",
      "1560/1563 [============================>.] - ETA: 0s - loss: 2.3082 - accuracy: 0.1022WARNING:tensorflow:Early stopping conditioned on metric `val_loss` which is not available. Available metrics are: loss,accuracy\n",
      "WARNING:tensorflow:Can save best model only with val_loss available, skipping.\n",
      "1563/1563 [==============================] - 9s 6ms/step - loss: 2.3082 - accuracy: 0.1020\n",
      "Epoch 7/20\n",
      "1560/1563 [============================>.] - ETA: 0s - loss: 164.0063 - accuracy: 0.0990WARNING:tensorflow:Early stopping conditioned on metric `val_loss` which is not available. Available metrics are: loss,accuracy\n",
      "WARNING:tensorflow:Can save best model only with val_loss available, skipping.\n",
      "1563/1563 [==============================] - 12s 8ms/step - loss: 163.7476 - accuracy: 0.0991\n",
      "Epoch 8/20\n",
      "1557/1563 [============================>.] - ETA: 0s - loss: 2.3038 - accuracy: 0.0995WARNING:tensorflow:Early stopping conditioned on metric `val_loss` which is not available. Available metrics are: loss,accuracy\n",
      "WARNING:tensorflow:Can save best model only with val_loss available, skipping.\n",
      "1563/1563 [==============================] - 12s 8ms/step - loss: 2.3038 - accuracy: 0.0996\n",
      "Epoch 9/20\n",
      "1562/1563 [============================>.] - ETA: 0s - loss: 2.3039 - accuracy: 0.1000WARNING:tensorflow:Early stopping conditioned on metric `val_loss` which is not available. Available metrics are: loss,accuracy\n",
      "WARNING:tensorflow:Can save best model only with val_loss available, skipping.\n",
      "1563/1563 [==============================] - 12s 7ms/step - loss: 2.3039 - accuracy: 0.1000\n",
      "Epoch 10/20\n",
      "1560/1563 [============================>.] - ETA: 0s - loss: 2.3041 - accuracy: 0.0982WARNING:tensorflow:Early stopping conditioned on metric `val_loss` which is not available. Available metrics are: loss,accuracy\n",
      "WARNING:tensorflow:Can save best model only with val_loss available, skipping.\n",
      "1563/1563 [==============================] - 9s 6ms/step - loss: 2.3041 - accuracy: 0.0982\n",
      "Epoch 11/20\n",
      "1563/1563 [==============================] - ETA: 0s - loss: 2.3040 - accuracy: 0.0997WARNING:tensorflow:Early stopping conditioned on metric `val_loss` which is not available. Available metrics are: loss,accuracy\n",
      "WARNING:tensorflow:Can save best model only with val_loss available, skipping.\n",
      "1563/1563 [==============================] - 10s 6ms/step - loss: 2.3040 - accuracy: 0.0997\n",
      "Epoch 12/20\n",
      "1559/1563 [============================>.] - ETA: 0s - loss: 2.3040 - accuracy: 0.0992WARNING:tensorflow:Early stopping conditioned on metric `val_loss` which is not available. Available metrics are: loss,accuracy\n",
      "WARNING:tensorflow:Can save best model only with val_loss available, skipping.\n",
      "1563/1563 [==============================] - 11s 7ms/step - loss: 2.3040 - accuracy: 0.0992\n",
      "Epoch 13/20\n",
      "1561/1563 [============================>.] - ETA: 0s - loss: 2.3039 - accuracy: 0.1001WARNING:tensorflow:Early stopping conditioned on metric `val_loss` which is not available. Available metrics are: loss,accuracy\n",
      "WARNING:tensorflow:Can save best model only with val_loss available, skipping.\n",
      "1563/1563 [==============================] - 11s 7ms/step - loss: 2.3039 - accuracy: 0.1002\n",
      "Epoch 14/20\n",
      "1556/1563 [============================>.] - ETA: 0s - loss: 2.3042 - accuracy: 0.1003WARNING:tensorflow:Early stopping conditioned on metric `val_loss` which is not available. Available metrics are: loss,accuracy\n",
      "WARNING:tensorflow:Can save best model only with val_loss available, skipping.\n",
      "1563/1563 [==============================] - 10s 7ms/step - loss: 2.3042 - accuracy: 0.1002\n",
      "Epoch 15/20\n",
      "1562/1563 [============================>.] - ETA: 0s - loss: 2.3039 - accuracy: 0.1001WARNING:tensorflow:Early stopping conditioned on metric `val_loss` which is not available. Available metrics are: loss,accuracy\n",
      "WARNING:tensorflow:Can save best model only with val_loss available, skipping.\n",
      "1563/1563 [==============================] - 11s 7ms/step - loss: 2.3039 - accuracy: 0.1001\n",
      "Epoch 16/20\n",
      "1562/1563 [============================>.] - ETA: 0s - loss: 2.3041 - accuracy: 0.0985WARNING:tensorflow:Early stopping conditioned on metric `val_loss` which is not available. Available metrics are: loss,accuracy\n",
      "WARNING:tensorflow:Can save best model only with val_loss available, skipping.\n",
      "1563/1563 [==============================] - 10s 6ms/step - loss: 2.3041 - accuracy: 0.0985\n",
      "Epoch 17/20\n",
      "1556/1563 [============================>.] - ETA: 0s - loss: 2.3041 - accuracy: 0.1016WARNING:tensorflow:Early stopping conditioned on metric `val_loss` which is not available. Available metrics are: loss,accuracy\n",
      "WARNING:tensorflow:Can save best model only with val_loss available, skipping.\n",
      "1563/1563 [==============================] - 11s 7ms/step - loss: 2.3040 - accuracy: 0.1017\n",
      "Epoch 18/20\n",
      "1562/1563 [============================>.] - ETA: 0s - loss: 2.3039 - accuracy: 0.0995WARNING:tensorflow:Early stopping conditioned on metric `val_loss` which is not available. Available metrics are: loss,accuracy\n",
      "WARNING:tensorflow:Can save best model only with val_loss available, skipping.\n",
      "1563/1563 [==============================] - 10s 7ms/step - loss: 2.3039 - accuracy: 0.0994\n",
      "Epoch 19/20\n",
      "1558/1563 [============================>.] - ETA: 0s - loss: 2.3039 - accuracy: 0.0991WARNING:tensorflow:Early stopping conditioned on metric `val_loss` which is not available. Available metrics are: loss,accuracy\n",
      "WARNING:tensorflow:Can save best model only with val_loss available, skipping.\n",
      "1563/1563 [==============================] - 9s 6ms/step - loss: 2.3038 - accuracy: 0.0990\n",
      "Epoch 20/20\n",
      "1559/1563 [============================>.] - ETA: 0s - loss: 2.3042 - accuracy: 0.0976WARNING:tensorflow:Early stopping conditioned on metric `val_loss` which is not available. Available metrics are: loss,accuracy\n",
      "WARNING:tensorflow:Can save best model only with val_loss available, skipping.\n",
      "1563/1563 [==============================] - 9s 6ms/step - loss: 2.3042 - accuracy: 0.0976\n"
     ]
    },
    {
     "data": {
      "text/plain": [
       "<keras.callbacks.History at 0x1d11a4dd9d0>"
      ]
     },
     "execution_count": 7,
     "metadata": {},
     "output_type": "execute_result"
    }
   ],
   "source": [
    "model = Sequential()\n",
    "model.add(Flatten(input_shape=[32, 32, 3]))\n",
    "for _ in range(20):\n",
    "    model.add(Dense(100,\n",
    "                    activation=\"swish\",\n",
    "                    kernel_initializer=\"he_normal\"))\n",
    "model.add(Dense(10, activation=softmax))\n",
    "\n",
    "optimizer = Nadam(learning_rate=1e-2)\n",
    "model.compile(loss=sparse_categorical_crossentropy,\n",
    "              optimizer=optimizer,\n",
    "              metrics=[\"accuracy\"])\n",
    "\n",
    "early_stopping_cb = EarlyStopping(patience=20,\n",
    "                                  restore_best_weights=True)\n",
    "model_checkpoint_cb = ModelCheckpoint('chack',\n",
    "                                      save_best_only=True)\n",
    "run_index = 1 # increment every time you train the model\n",
    "run_logdir = Path() / \"my_cifar10_logs\" / f\"run_{run_index:03d}\"\n",
    "tensorboard_cb = tf.keras.callbacks.TensorBoard(run_logdir)\n",
    "callbacks = [early_stopping_cb, model_checkpoint_cb, tensorboard_cb]\n",
    "\n",
    "%load_ext tensorboard\n",
    "%tensorboard --logdir=./my_cifar10_logs\n",
    "\n",
    "model.fit(X_train, y_train, epochs=20,\n",
    "          validation_batch_size=0.2,\n",
    "          callbacks=callbacks)"
   ]
  },
  {
   "cell_type": "code",
   "execution_count": 8,
   "metadata": {},
   "outputs": [],
   "source": [
    "tf.keras.backend.clear_session()\n",
    "tf.random.set_seed(42)"
   ]
  },
  {
   "cell_type": "code",
   "execution_count": 9,
   "metadata": {},
   "outputs": [
    {
     "name": "stdout",
     "output_type": "stream",
     "text": [
      "The tensorboard extension is already loaded. To reload it, use:\n",
      "  %reload_ext tensorboard\n"
     ]
    },
    {
     "data": {
      "text/plain": [
       "Reusing TensorBoard on port 6006 (pid 4020), started 18:02:56 ago. (Use '!kill 4020' to kill it.)"
      ]
     },
     "metadata": {},
     "output_type": "display_data"
    },
    {
     "data": {
      "text/html": [
       "\n",
       "      <iframe id=\"tensorboard-frame-82921cb9e531790d\" width=\"100%\" height=\"800\" frameborder=\"0\">\n",
       "      </iframe>\n",
       "      <script>\n",
       "        (function() {\n",
       "          const frame = document.getElementById(\"tensorboard-frame-82921cb9e531790d\");\n",
       "          const url = new URL(\"http://localhost\");\n",
       "          const port = 6006;\n",
       "          if (port) {\n",
       "            url.port = port;\n",
       "          }\n",
       "          frame.src = url;\n",
       "        })();\n",
       "      </script>\n",
       "    "
      ],
      "text/plain": [
       "<IPython.core.display.HTML object>"
      ]
     },
     "metadata": {},
     "output_type": "display_data"
    },
    {
     "name": "stdout",
     "output_type": "stream",
     "text": [
      "Epoch 1/20\n",
      "1559/1563 [============================>.] - ETA: 0s - loss: 113.0365 - accuracy: 0.1550WARNING:tensorflow:Early stopping conditioned on metric `val_loss` which is not available. Available metrics are: loss,accuracy\n",
      "WARNING:tensorflow:Can save best model only with val_loss available, skipping.\n",
      "1563/1563 [==============================] - 12s 6ms/step - loss: 112.7885 - accuracy: 0.1548\n",
      "Epoch 2/20\n",
      "1558/1563 [============================>.] - ETA: 0s - loss: 2.3340 - accuracy: 0.0998WARNING:tensorflow:Early stopping conditioned on metric `val_loss` which is not available. Available metrics are: loss,accuracy\n",
      "WARNING:tensorflow:Can save best model only with val_loss available, skipping.\n",
      "1563/1563 [==============================] - 10s 6ms/step - loss: 2.3340 - accuracy: 0.0998\n",
      "Epoch 3/20\n",
      "1561/1563 [============================>.] - ETA: 0s - loss: 2.3075 - accuracy: 0.1011WARNING:tensorflow:Early stopping conditioned on metric `val_loss` which is not available. Available metrics are: loss,accuracy\n",
      "WARNING:tensorflow:Can save best model only with val_loss available, skipping.\n",
      "1563/1563 [==============================] - 9s 6ms/step - loss: 2.3075 - accuracy: 0.1012\n",
      "Epoch 4/20\n",
      "1554/1563 [============================>.] - ETA: 0s - loss: 2.3103 - accuracy: 0.0993WARNING:tensorflow:Early stopping conditioned on metric `val_loss` which is not available. Available metrics are: loss,accuracy\n",
      "WARNING:tensorflow:Can save best model only with val_loss available, skipping.\n",
      "1563/1563 [==============================] - 10s 6ms/step - loss: 2.3104 - accuracy: 0.0992\n",
      "Epoch 5/20\n",
      "1558/1563 [============================>.] - ETA: 0s - loss: 2.3068 - accuracy: 0.0995WARNING:tensorflow:Early stopping conditioned on metric `val_loss` which is not available. Available metrics are: loss,accuracy\n",
      "WARNING:tensorflow:Can save best model only with val_loss available, skipping.\n",
      "1563/1563 [==============================] - 10s 6ms/step - loss: 2.3068 - accuracy: 0.0995\n",
      "Epoch 6/20\n",
      "1559/1563 [============================>.] - ETA: 0s - loss: 2.3072 - accuracy: 0.1009WARNING:tensorflow:Early stopping conditioned on metric `val_loss` which is not available. Available metrics are: loss,accuracy\n",
      "WARNING:tensorflow:Can save best model only with val_loss available, skipping.\n",
      "1563/1563 [==============================] - 9s 6ms/step - loss: 2.3072 - accuracy: 0.1008\n",
      "Epoch 7/20\n",
      "1558/1563 [============================>.] - ETA: 0s - loss: 5.2838 - accuracy: 0.1003WARNING:tensorflow:Early stopping conditioned on metric `val_loss` which is not available. Available metrics are: loss,accuracy\n",
      "WARNING:tensorflow:Can save best model only with val_loss available, skipping.\n",
      "1563/1563 [==============================] - 10s 6ms/step - loss: 5.2753 - accuracy: 0.1003\n",
      "Epoch 8/20\n",
      "1555/1563 [============================>.] - ETA: 0s - loss: 2.3073 - accuracy: 0.0986WARNING:tensorflow:Early stopping conditioned on metric `val_loss` which is not available. Available metrics are: loss,accuracy\n",
      "WARNING:tensorflow:Can save best model only with val_loss available, skipping.\n",
      "1563/1563 [==============================] - 10s 6ms/step - loss: 2.3072 - accuracy: 0.0987\n",
      "Epoch 9/20\n",
      "1558/1563 [============================>.] - ETA: 0s - loss: 2.3066 - accuracy: 0.1008WARNING:tensorflow:Early stopping conditioned on metric `val_loss` which is not available. Available metrics are: loss,accuracy\n",
      "WARNING:tensorflow:Can save best model only with val_loss available, skipping.\n",
      "1563/1563 [==============================] - 10s 7ms/step - loss: 2.3066 - accuracy: 0.1009\n",
      "Epoch 10/20\n",
      "1555/1563 [============================>.] - ETA: 0s - loss: 2.3043 - accuracy: 0.0979WARNING:tensorflow:Early stopping conditioned on metric `val_loss` which is not available. Available metrics are: loss,accuracy\n",
      "WARNING:tensorflow:Can save best model only with val_loss available, skipping.\n",
      "1563/1563 [==============================] - 11s 7ms/step - loss: 2.3043 - accuracy: 0.0980\n",
      "Epoch 11/20\n",
      "1558/1563 [============================>.] - ETA: 0s - loss: 2.3043 - accuracy: 0.0997WARNING:tensorflow:Early stopping conditioned on metric `val_loss` which is not available. Available metrics are: loss,accuracy\n",
      "WARNING:tensorflow:Can save best model only with val_loss available, skipping.\n",
      "1563/1563 [==============================] - 10s 7ms/step - loss: 2.3043 - accuracy: 0.0998\n",
      "Epoch 12/20\n",
      "1557/1563 [============================>.] - ETA: 0s - loss: 2.3037 - accuracy: 0.0992WARNING:tensorflow:Early stopping conditioned on metric `val_loss` which is not available. Available metrics are: loss,accuracy\n",
      "WARNING:tensorflow:Can save best model only with val_loss available, skipping.\n",
      "1563/1563 [==============================] - 9s 6ms/step - loss: 2.3037 - accuracy: 0.0992\n",
      "Epoch 13/20\n",
      "1557/1563 [============================>.] - ETA: 0s - loss: 2.3033 - accuracy: 0.1007WARNING:tensorflow:Early stopping conditioned on metric `val_loss` which is not available. Available metrics are: loss,accuracy\n",
      "WARNING:tensorflow:Can save best model only with val_loss available, skipping.\n",
      "1563/1563 [==============================] - 9s 6ms/step - loss: 2.3033 - accuracy: 0.1008\n",
      "Epoch 14/20\n",
      "1558/1563 [============================>.] - ETA: 0s - loss: 2.3035 - accuracy: 0.0993WARNING:tensorflow:Early stopping conditioned on metric `val_loss` which is not available. Available metrics are: loss,accuracy\n",
      "WARNING:tensorflow:Can save best model only with val_loss available, skipping.\n",
      "1563/1563 [==============================] - 10s 6ms/step - loss: 2.3035 - accuracy: 0.0992\n",
      "Epoch 15/20\n",
      "1562/1563 [============================>.] - ETA: 0s - loss: 2.3033 - accuracy: 0.0992WARNING:tensorflow:Early stopping conditioned on metric `val_loss` which is not available. Available metrics are: loss,accuracy\n",
      "WARNING:tensorflow:Can save best model only with val_loss available, skipping.\n",
      "1563/1563 [==============================] - 9s 6ms/step - loss: 2.3033 - accuracy: 0.0992\n",
      "Epoch 16/20\n",
      "1557/1563 [============================>.] - ETA: 0s - loss: 2.3034 - accuracy: 0.0991WARNING:tensorflow:Early stopping conditioned on metric `val_loss` which is not available. Available metrics are: loss,accuracy\n",
      "WARNING:tensorflow:Can save best model only with val_loss available, skipping.\n",
      "1563/1563 [==============================] - 9s 6ms/step - loss: 2.3034 - accuracy: 0.0991\n",
      "Epoch 17/20\n",
      "1560/1563 [============================>.] - ETA: 0s - loss: 2.3034 - accuracy: 0.1005WARNING:tensorflow:Early stopping conditioned on metric `val_loss` which is not available. Available metrics are: loss,accuracy\n",
      "WARNING:tensorflow:Can save best model only with val_loss available, skipping.\n",
      "1563/1563 [==============================] - 10s 6ms/step - loss: 2.3034 - accuracy: 0.1006\n",
      "Epoch 18/20\n",
      "1561/1563 [============================>.] - ETA: 0s - loss: 2.3033 - accuracy: 0.0987WARNING:tensorflow:Early stopping conditioned on metric `val_loss` which is not available. Available metrics are: loss,accuracy\n",
      "WARNING:tensorflow:Can save best model only with val_loss available, skipping.\n",
      "1563/1563 [==============================] - 10s 6ms/step - loss: 2.3033 - accuracy: 0.0986\n",
      "Epoch 19/20\n",
      "1556/1563 [============================>.] - ETA: 0s - loss: 2.3032 - accuracy: 0.1002WARNING:tensorflow:Early stopping conditioned on metric `val_loss` which is not available. Available metrics are: loss,accuracy\n",
      "WARNING:tensorflow:Can save best model only with val_loss available, skipping.\n",
      "1563/1563 [==============================] - 10s 7ms/step - loss: 2.3032 - accuracy: 0.1002\n",
      "Epoch 20/20\n",
      "1562/1563 [============================>.] - ETA: 0s - loss: 2.3034 - accuracy: 0.0986WARNING:tensorflow:Early stopping conditioned on metric `val_loss` which is not available. Available metrics are: loss,accuracy\n",
      "WARNING:tensorflow:Can save best model only with val_loss available, skipping.\n",
      "1563/1563 [==============================] - 10s 7ms/step - loss: 2.3034 - accuracy: 0.0986\n"
     ]
    },
    {
     "data": {
      "text/plain": [
       "<keras.callbacks.History at 0x1d10f455990>"
      ]
     },
     "execution_count": 9,
     "metadata": {},
     "output_type": "execute_result"
    }
   ],
   "source": [
    "model = Sequential()\n",
    "model.add(Flatten(input_shape=[32, 32, 3]))\n",
    "for _ in range(20):\n",
    "    model.add(Dense(100,\n",
    "                    activation=\"swish\",\n",
    "                    kernel_initializer=\"he_normal\"))\n",
    "model.add(Dense(10, activation=softmax))\n",
    "\n",
    "optimizer = Nadam(learning_rate=5e-3)\n",
    "model.compile(loss=sparse_categorical_crossentropy,\n",
    "              optimizer=optimizer,\n",
    "              metrics=[\"accuracy\"])\n",
    "\n",
    "early_stopping_cb = EarlyStopping(patience=20,\n",
    "                                  restore_best_weights=True)\n",
    "model_checkpoint_cb = ModelCheckpoint('chack',\n",
    "                                      save_best_only=True)\n",
    "run_index = 1 # increment every time you train the model\n",
    "run_logdir = Path() / \"my_cifar10_logs\" / f\"run_{run_index:03d}\"\n",
    "tensorboard_cb = tf.keras.callbacks.TensorBoard(run_logdir)\n",
    "callbacks = [early_stopping_cb, model_checkpoint_cb, tensorboard_cb]\n",
    "\n",
    "%load_ext tensorboard\n",
    "%tensorboard --logdir=./my_cifar10_logs\n",
    "\n",
    "model.fit(X_train, y_train, epochs=20,\n",
    "          validation_batch_size=0.2,\n",
    "          callbacks=callbacks)"
   ]
  },
  {
   "cell_type": "code",
   "execution_count": 10,
   "metadata": {},
   "outputs": [],
   "source": [
    "tf.keras.backend.clear_session()\n",
    "tf.random.set_seed(42)"
   ]
  },
  {
   "cell_type": "code",
   "execution_count": 11,
   "metadata": {},
   "outputs": [
    {
     "name": "stdout",
     "output_type": "stream",
     "text": [
      "The tensorboard extension is already loaded. To reload it, use:\n",
      "  %reload_ext tensorboard\n"
     ]
    },
    {
     "data": {
      "text/plain": [
       "Reusing TensorBoard on port 6006 (pid 4020), started 18:06:12 ago. (Use '!kill 4020' to kill it.)"
      ]
     },
     "metadata": {},
     "output_type": "display_data"
    },
    {
     "data": {
      "text/html": [
       "\n",
       "      <iframe id=\"tensorboard-frame-2a0455ea5187013d\" width=\"100%\" height=\"800\" frameborder=\"0\">\n",
       "      </iframe>\n",
       "      <script>\n",
       "        (function() {\n",
       "          const frame = document.getElementById(\"tensorboard-frame-2a0455ea5187013d\");\n",
       "          const url = new URL(\"http://localhost\");\n",
       "          const port = 6006;\n",
       "          if (port) {\n",
       "            url.port = port;\n",
       "          }\n",
       "          frame.src = url;\n",
       "        })();\n",
       "      </script>\n",
       "    "
      ],
      "text/plain": [
       "<IPython.core.display.HTML object>"
      ]
     },
     "metadata": {},
     "output_type": "display_data"
    },
    {
     "name": "stdout",
     "output_type": "stream",
     "text": [
      "Epoch 1/20\n",
      "1554/1563 [============================>.] - ETA: 0s - loss: 3.5833 - accuracy: 0.2143WARNING:tensorflow:Early stopping conditioned on metric `val_loss` which is not available. Available metrics are: loss,accuracy\n",
      "WARNING:tensorflow:Can save best model only with val_loss available, skipping.\n",
      "1563/1563 [==============================] - 12s 6ms/step - loss: 3.5753 - accuracy: 0.2143\n",
      "Epoch 2/20\n",
      "1561/1563 [============================>.] - ETA: 0s - loss: 1.9381 - accuracy: 0.2797WARNING:tensorflow:Early stopping conditioned on metric `val_loss` which is not available. Available metrics are: loss,accuracy\n",
      "WARNING:tensorflow:Can save best model only with val_loss available, skipping.\n",
      "1563/1563 [==============================] - 9s 6ms/step - loss: 1.9381 - accuracy: 0.2797\n",
      "Epoch 3/20\n",
      "1560/1563 [============================>.] - ETA: 0s - loss: 1.8722 - accuracy: 0.3114WARNING:tensorflow:Early stopping conditioned on metric `val_loss` which is not available. Available metrics are: loss,accuracy\n",
      "WARNING:tensorflow:Can save best model only with val_loss available, skipping.\n",
      "1563/1563 [==============================] - 9s 6ms/step - loss: 1.8720 - accuracy: 0.3114\n",
      "Epoch 4/20\n",
      "1558/1563 [============================>.] - ETA: 0s - loss: 1.8283 - accuracy: 0.3304WARNING:tensorflow:Early stopping conditioned on metric `val_loss` which is not available. Available metrics are: loss,accuracy\n",
      "WARNING:tensorflow:Can save best model only with val_loss available, skipping.\n",
      "1563/1563 [==============================] - 9s 6ms/step - loss: 1.8288 - accuracy: 0.3303\n",
      "Epoch 5/20\n",
      "1556/1563 [============================>.] - ETA: 0s - loss: 1.7954 - accuracy: 0.3460WARNING:tensorflow:Early stopping conditioned on metric `val_loss` which is not available. Available metrics are: loss,accuracy\n",
      "WARNING:tensorflow:Can save best model only with val_loss available, skipping.\n",
      "1563/1563 [==============================] - 9s 6ms/step - loss: 1.7952 - accuracy: 0.3462\n",
      "Epoch 6/20\n",
      "1558/1563 [============================>.] - ETA: 0s - loss: 1.7663 - accuracy: 0.3559WARNING:tensorflow:Early stopping conditioned on metric `val_loss` which is not available. Available metrics are: loss,accuracy\n",
      "WARNING:tensorflow:Can save best model only with val_loss available, skipping.\n",
      "1563/1563 [==============================] - 9s 6ms/step - loss: 1.7663 - accuracy: 0.3560\n",
      "Epoch 7/20\n",
      "1555/1563 [============================>.] - ETA: 0s - loss: 1.7433 - accuracy: 0.3664WARNING:tensorflow:Early stopping conditioned on metric `val_loss` which is not available. Available metrics are: loss,accuracy\n",
      "WARNING:tensorflow:Can save best model only with val_loss available, skipping.\n",
      "1563/1563 [==============================] - 9s 6ms/step - loss: 1.7433 - accuracy: 0.3664\n",
      "Epoch 8/20\n",
      "1561/1563 [============================>.] - ETA: 0s - loss: 1.7162 - accuracy: 0.3800WARNING:tensorflow:Early stopping conditioned on metric `val_loss` which is not available. Available metrics are: loss,accuracy\n",
      "WARNING:tensorflow:Can save best model only with val_loss available, skipping.\n",
      "1563/1563 [==============================] - 10s 6ms/step - loss: 1.7164 - accuracy: 0.3799\n",
      "Epoch 9/20\n",
      "1556/1563 [============================>.] - ETA: 0s - loss: 1.6973 - accuracy: 0.3884WARNING:tensorflow:Early stopping conditioned on metric `val_loss` which is not available. Available metrics are: loss,accuracy\n",
      "WARNING:tensorflow:Can save best model only with val_loss available, skipping.\n",
      "1563/1563 [==============================] - 9s 6ms/step - loss: 1.6975 - accuracy: 0.3883\n",
      "Epoch 10/20\n",
      "1561/1563 [============================>.] - ETA: 0s - loss: 1.6732 - accuracy: 0.3991WARNING:tensorflow:Early stopping conditioned on metric `val_loss` which is not available. Available metrics are: loss,accuracy\n",
      "WARNING:tensorflow:Can save best model only with val_loss available, skipping.\n",
      "1563/1563 [==============================] - 9s 6ms/step - loss: 1.6733 - accuracy: 0.3991\n",
      "Epoch 11/20\n",
      "1559/1563 [============================>.] - ETA: 0s - loss: 1.6524 - accuracy: 0.4071WARNING:tensorflow:Early stopping conditioned on metric `val_loss` which is not available. Available metrics are: loss,accuracy\n",
      "WARNING:tensorflow:Can save best model only with val_loss available, skipping.\n",
      "1563/1563 [==============================] - 9s 6ms/step - loss: 1.6528 - accuracy: 0.4070\n",
      "Epoch 12/20\n",
      "1556/1563 [============================>.] - ETA: 0s - loss: 1.6372 - accuracy: 0.4110WARNING:tensorflow:Early stopping conditioned on metric `val_loss` which is not available. Available metrics are: loss,accuracy\n",
      "WARNING:tensorflow:Can save best model only with val_loss available, skipping.\n",
      "1563/1563 [==============================] - 9s 6ms/step - loss: 1.6375 - accuracy: 0.4108\n",
      "Epoch 13/20\n",
      "1561/1563 [============================>.] - ETA: 0s - loss: 2.0156 - accuracy: 0.3985WARNING:tensorflow:Early stopping conditioned on metric `val_loss` which is not available. Available metrics are: loss,accuracy\n",
      "WARNING:tensorflow:Can save best model only with val_loss available, skipping.\n",
      "1563/1563 [==============================] - 9s 6ms/step - loss: 2.0156 - accuracy: 0.3983\n",
      "Epoch 14/20\n",
      "1557/1563 [============================>.] - ETA: 0s - loss: 1.7317 - accuracy: 0.3681WARNING:tensorflow:Early stopping conditioned on metric `val_loss` which is not available. Available metrics are: loss,accuracy\n",
      "WARNING:tensorflow:Can save best model only with val_loss available, skipping.\n",
      "1563/1563 [==============================] - 9s 6ms/step - loss: 1.7319 - accuracy: 0.3683\n",
      "Epoch 15/20\n",
      "1562/1563 [============================>.] - ETA: 0s - loss: 1.6783 - accuracy: 0.3910WARNING:tensorflow:Early stopping conditioned on metric `val_loss` which is not available. Available metrics are: loss,accuracy\n",
      "WARNING:tensorflow:Can save best model only with val_loss available, skipping.\n",
      "1563/1563 [==============================] - 9s 6ms/step - loss: 1.6782 - accuracy: 0.3910\n",
      "Epoch 16/20\n",
      "1559/1563 [============================>.] - ETA: 0s - loss: 1.6575 - accuracy: 0.4014WARNING:tensorflow:Early stopping conditioned on metric `val_loss` which is not available. Available metrics are: loss,accuracy\n",
      "WARNING:tensorflow:Can save best model only with val_loss available, skipping.\n",
      "1563/1563 [==============================] - 9s 6ms/step - loss: 1.6575 - accuracy: 0.4015\n",
      "Epoch 17/20\n",
      "1558/1563 [============================>.] - ETA: 0s - loss: 1.6468 - accuracy: 0.4066WARNING:tensorflow:Early stopping conditioned on metric `val_loss` which is not available. Available metrics are: loss,accuracy\n",
      "WARNING:tensorflow:Can save best model only with val_loss available, skipping.\n",
      "1563/1563 [==============================] - 9s 6ms/step - loss: 1.6466 - accuracy: 0.4068\n",
      "Epoch 18/20\n",
      "1561/1563 [============================>.] - ETA: 0s - loss: 1.6300 - accuracy: 0.4143WARNING:tensorflow:Early stopping conditioned on metric `val_loss` which is not available. Available metrics are: loss,accuracy\n",
      "WARNING:tensorflow:Can save best model only with val_loss available, skipping.\n",
      "1563/1563 [==============================] - 9s 6ms/step - loss: 1.6303 - accuracy: 0.4141\n",
      "Epoch 19/20\n",
      "1558/1563 [============================>.] - ETA: 0s - loss: 1.6234 - accuracy: 0.4152WARNING:tensorflow:Early stopping conditioned on metric `val_loss` which is not available. Available metrics are: loss,accuracy\n",
      "WARNING:tensorflow:Can save best model only with val_loss available, skipping.\n",
      "1563/1563 [==============================] - 10s 6ms/step - loss: 1.6232 - accuracy: 0.4154\n",
      "Epoch 20/20\n",
      "1561/1563 [============================>.] - ETA: 0s - loss: 1.6172 - accuracy: 0.4184WARNING:tensorflow:Early stopping conditioned on metric `val_loss` which is not available. Available metrics are: loss,accuracy\n",
      "WARNING:tensorflow:Can save best model only with val_loss available, skipping.\n",
      "1563/1563 [==============================] - 10s 6ms/step - loss: 1.6173 - accuracy: 0.4184\n"
     ]
    },
    {
     "data": {
      "text/plain": [
       "<keras.callbacks.History at 0x1d10ffbfed0>"
      ]
     },
     "execution_count": 11,
     "metadata": {},
     "output_type": "execute_result"
    }
   ],
   "source": [
    "model = Sequential()\n",
    "model.add(Flatten(input_shape=[32, 32, 3]))\n",
    "for _ in range(20):\n",
    "    model.add(Dense(100,\n",
    "                    activation=\"swish\",\n",
    "                    kernel_initializer=\"he_normal\"))\n",
    "model.add(Dense(10, activation=softmax))\n",
    "\n",
    "optimizer = Nadam(learning_rate=1e-3)\n",
    "model.compile(loss=sparse_categorical_crossentropy,\n",
    "              optimizer=optimizer,\n",
    "              metrics=[\"accuracy\"])\n",
    "\n",
    "early_stopping_cb = EarlyStopping(patience=20,\n",
    "                                  restore_best_weights=True)\n",
    "model_checkpoint_cb = ModelCheckpoint('chack',\n",
    "                                      save_best_only=True)\n",
    "run_index = 1 # increment every time you train the model\n",
    "run_logdir = Path() / \"my_cifar10_logs\" / f\"run_{run_index:03d}\"\n",
    "tensorboard_cb = tf.keras.callbacks.TensorBoard(run_logdir)\n",
    "callbacks = [early_stopping_cb, model_checkpoint_cb, tensorboard_cb]\n",
    "\n",
    "%load_ext tensorboard\n",
    "%tensorboard --logdir=./my_cifar10_logs\n",
    "\n",
    "model.fit(X_train, y_train, epochs=20,\n",
    "          validation_batch_size=0.2,\n",
    "          callbacks=callbacks)"
   ]
  },
  {
   "cell_type": "code",
   "execution_count": 12,
   "metadata": {},
   "outputs": [],
   "source": [
    "tf.keras.backend.clear_session()\n",
    "tf.random.set_seed(42)"
   ]
  },
  {
   "cell_type": "code",
   "execution_count": 13,
   "metadata": {},
   "outputs": [
    {
     "name": "stdout",
     "output_type": "stream",
     "text": [
      "The tensorboard extension is already loaded. To reload it, use:\n",
      "  %reload_ext tensorboard\n"
     ]
    },
    {
     "data": {
      "text/plain": [
       "Reusing TensorBoard on port 6006 (pid 4020), started 18:09:20 ago. (Use '!kill 4020' to kill it.)"
      ]
     },
     "metadata": {},
     "output_type": "display_data"
    },
    {
     "data": {
      "text/html": [
       "\n",
       "      <iframe id=\"tensorboard-frame-314fbfd85939896a\" width=\"100%\" height=\"800\" frameborder=\"0\">\n",
       "      </iframe>\n",
       "      <script>\n",
       "        (function() {\n",
       "          const frame = document.getElementById(\"tensorboard-frame-314fbfd85939896a\");\n",
       "          const url = new URL(\"http://localhost\");\n",
       "          const port = 6006;\n",
       "          if (port) {\n",
       "            url.port = port;\n",
       "          }\n",
       "          frame.src = url;\n",
       "        })();\n",
       "      </script>\n",
       "    "
      ],
      "text/plain": [
       "<IPython.core.display.HTML object>"
      ]
     },
     "metadata": {},
     "output_type": "display_data"
    },
    {
     "name": "stdout",
     "output_type": "stream",
     "text": [
      "Epoch 1/20\n",
      "1556/1563 [============================>.] - ETA: 0s - loss: 2.6668 - accuracy: 0.1905WARNING:tensorflow:Early stopping conditioned on metric `val_loss` which is not available. Available metrics are: loss,accuracy\n",
      "WARNING:tensorflow:Can save best model only with val_loss available, skipping.\n",
      "1563/1563 [==============================] - 12s 6ms/step - loss: 2.6644 - accuracy: 0.1905\n",
      "Epoch 2/20\n",
      "1557/1563 [============================>.] - ETA: 0s - loss: 1.9353 - accuracy: 0.2816WARNING:tensorflow:Early stopping conditioned on metric `val_loss` which is not available. Available metrics are: loss,accuracy\n",
      "WARNING:tensorflow:Can save best model only with val_loss available, skipping.\n",
      "1563/1563 [==============================] - 10s 6ms/step - loss: 1.9352 - accuracy: 0.2816\n",
      "Epoch 3/20\n",
      "1557/1563 [============================>.] - ETA: 0s - loss: 1.8627 - accuracy: 0.3108WARNING:tensorflow:Early stopping conditioned on metric `val_loss` which is not available. Available metrics are: loss,accuracy\n",
      "WARNING:tensorflow:Can save best model only with val_loss available, skipping.\n",
      "1563/1563 [==============================] - 9s 6ms/step - loss: 1.8625 - accuracy: 0.3110\n",
      "Epoch 4/20\n",
      "1557/1563 [============================>.] - ETA: 0s - loss: 1.8146 - accuracy: 0.3377WARNING:tensorflow:Early stopping conditioned on metric `val_loss` which is not available. Available metrics are: loss,accuracy\n",
      "WARNING:tensorflow:Can save best model only with val_loss available, skipping.\n",
      "1563/1563 [==============================] - 9s 6ms/step - loss: 1.8149 - accuracy: 0.3375\n",
      "Epoch 5/20\n",
      "1559/1563 [============================>.] - ETA: 0s - loss: 1.7727 - accuracy: 0.3530WARNING:tensorflow:Early stopping conditioned on metric `val_loss` which is not available. Available metrics are: loss,accuracy\n",
      "WARNING:tensorflow:Can save best model only with val_loss available, skipping.\n",
      "1563/1563 [==============================] - 9s 6ms/step - loss: 1.7726 - accuracy: 0.3530\n",
      "Epoch 6/20\n",
      "1557/1563 [============================>.] - ETA: 0s - loss: 1.7373 - accuracy: 0.3676WARNING:tensorflow:Early stopping conditioned on metric `val_loss` which is not available. Available metrics are: loss,accuracy\n",
      "WARNING:tensorflow:Can save best model only with val_loss available, skipping.\n",
      "1563/1563 [==============================] - 9s 6ms/step - loss: 1.7372 - accuracy: 0.3675\n",
      "Epoch 7/20\n",
      "1559/1563 [============================>.] - ETA: 0s - loss: 1.6997 - accuracy: 0.3841WARNING:tensorflow:Early stopping conditioned on metric `val_loss` which is not available. Available metrics are: loss,accuracy\n",
      "WARNING:tensorflow:Can save best model only with val_loss available, skipping.\n",
      "1563/1563 [==============================] - 10s 6ms/step - loss: 1.6996 - accuracy: 0.3841\n",
      "Epoch 8/20\n",
      "1560/1563 [============================>.] - ETA: 0s - loss: 1.6738 - accuracy: 0.3928WARNING:tensorflow:Early stopping conditioned on metric `val_loss` which is not available. Available metrics are: loss,accuracy\n",
      "WARNING:tensorflow:Can save best model only with val_loss available, skipping.\n",
      "1563/1563 [==============================] - 10s 6ms/step - loss: 1.6738 - accuracy: 0.3927\n",
      "Epoch 9/20\n",
      "1563/1563 [==============================] - ETA: 0s - loss: 1.6543 - accuracy: 0.4030WARNING:tensorflow:Early stopping conditioned on metric `val_loss` which is not available. Available metrics are: loss,accuracy\n",
      "WARNING:tensorflow:Can save best model only with val_loss available, skipping.\n",
      "1563/1563 [==============================] - 10s 6ms/step - loss: 1.6543 - accuracy: 0.4030\n",
      "Epoch 10/20\n",
      "1563/1563 [==============================] - ETA: 0s - loss: 1.6333 - accuracy: 0.4110WARNING:tensorflow:Early stopping conditioned on metric `val_loss` which is not available. Available metrics are: loss,accuracy\n",
      "WARNING:tensorflow:Can save best model only with val_loss available, skipping.\n",
      "1563/1563 [==============================] - 9s 6ms/step - loss: 1.6333 - accuracy: 0.4110\n",
      "Epoch 11/20\n",
      "1557/1563 [============================>.] - ETA: 0s - loss: 1.6135 - accuracy: 0.4210WARNING:tensorflow:Early stopping conditioned on metric `val_loss` which is not available. Available metrics are: loss,accuracy\n",
      "WARNING:tensorflow:Can save best model only with val_loss available, skipping.\n",
      "1563/1563 [==============================] - 9s 6ms/step - loss: 1.6137 - accuracy: 0.4210\n",
      "Epoch 12/20\n",
      "1555/1563 [============================>.] - ETA: 0s - loss: 1.6005 - accuracy: 0.4223WARNING:tensorflow:Early stopping conditioned on metric `val_loss` which is not available. Available metrics are: loss,accuracy\n",
      "WARNING:tensorflow:Can save best model only with val_loss available, skipping.\n",
      "1563/1563 [==============================] - 9s 6ms/step - loss: 1.6006 - accuracy: 0.4224\n",
      "Epoch 13/20\n",
      "1560/1563 [============================>.] - ETA: 0s - loss: 1.5872 - accuracy: 0.4289WARNING:tensorflow:Early stopping conditioned on metric `val_loss` which is not available. Available metrics are: loss,accuracy\n",
      "WARNING:tensorflow:Can save best model only with val_loss available, skipping.\n",
      "1563/1563 [==============================] - 9s 6ms/step - loss: 1.5874 - accuracy: 0.4287\n",
      "Epoch 14/20\n",
      "1558/1563 [============================>.] - ETA: 0s - loss: 1.5729 - accuracy: 0.4321WARNING:tensorflow:Early stopping conditioned on metric `val_loss` which is not available. Available metrics are: loss,accuracy\n",
      "WARNING:tensorflow:Can save best model only with val_loss available, skipping.\n",
      "1563/1563 [==============================] - 10s 6ms/step - loss: 1.5734 - accuracy: 0.4321\n",
      "Epoch 15/20\n",
      "1561/1563 [============================>.] - ETA: 0s - loss: 1.5649 - accuracy: 0.4361WARNING:tensorflow:Early stopping conditioned on metric `val_loss` which is not available. Available metrics are: loss,accuracy\n",
      "WARNING:tensorflow:Can save best model only with val_loss available, skipping.\n",
      "1563/1563 [==============================] - 9s 6ms/step - loss: 1.5649 - accuracy: 0.4362\n",
      "Epoch 16/20\n",
      "1554/1563 [============================>.] - ETA: 0s - loss: 1.5540 - accuracy: 0.4416WARNING:tensorflow:Early stopping conditioned on metric `val_loss` which is not available. Available metrics are: loss,accuracy\n",
      "WARNING:tensorflow:Can save best model only with val_loss available, skipping.\n",
      "1563/1563 [==============================] - 9s 6ms/step - loss: 1.5533 - accuracy: 0.4418\n",
      "Epoch 17/20\n",
      "1561/1563 [============================>.] - ETA: 0s - loss: 1.5995 - accuracy: 0.4229WARNING:tensorflow:Early stopping conditioned on metric `val_loss` which is not available. Available metrics are: loss,accuracy\n",
      "WARNING:tensorflow:Can save best model only with val_loss available, skipping.\n",
      "1563/1563 [==============================] - 9s 6ms/step - loss: 1.5996 - accuracy: 0.4228\n",
      "Epoch 18/20\n",
      "1559/1563 [============================>.] - ETA: 0s - loss: 1.5447 - accuracy: 0.4460WARNING:tensorflow:Early stopping conditioned on metric `val_loss` which is not available. Available metrics are: loss,accuracy\n",
      "WARNING:tensorflow:Can save best model only with val_loss available, skipping.\n",
      "1563/1563 [==============================] - 9s 6ms/step - loss: 1.5453 - accuracy: 0.4457\n",
      "Epoch 19/20\n",
      "1560/1563 [============================>.] - ETA: 0s - loss: 1.5330 - accuracy: 0.4481WARNING:tensorflow:Early stopping conditioned on metric `val_loss` which is not available. Available metrics are: loss,accuracy\n",
      "WARNING:tensorflow:Can save best model only with val_loss available, skipping.\n",
      "1563/1563 [==============================] - 9s 6ms/step - loss: 1.5329 - accuracy: 0.4482\n",
      "Epoch 20/20\n",
      "1556/1563 [============================>.] - ETA: 0s - loss: 1.5242 - accuracy: 0.4517WARNING:tensorflow:Early stopping conditioned on metric `val_loss` which is not available. Available metrics are: loss,accuracy\n",
      "WARNING:tensorflow:Can save best model only with val_loss available, skipping.\n",
      "1563/1563 [==============================] - 9s 6ms/step - loss: 1.5240 - accuracy: 0.4517\n"
     ]
    },
    {
     "data": {
      "text/plain": [
       "<keras.callbacks.History at 0x1d11ec30b10>"
      ]
     },
     "execution_count": 13,
     "metadata": {},
     "output_type": "execute_result"
    }
   ],
   "source": [
    "model = Sequential()\n",
    "model.add(Flatten(input_shape=[32, 32, 3]))\n",
    "for _ in range(20):\n",
    "    model.add(Dense(100,\n",
    "                    activation=\"swish\",\n",
    "                    kernel_initializer=\"he_normal\"))\n",
    "model.add(Dense(10, activation=softmax))\n",
    "\n",
    "optimizer = Nadam(learning_rate=5e-4)\n",
    "model.compile(loss=sparse_categorical_crossentropy,\n",
    "              optimizer=optimizer,\n",
    "              metrics=[\"accuracy\"])\n",
    "\n",
    "early_stopping_cb = EarlyStopping(patience=20,\n",
    "                                  restore_best_weights=True)\n",
    "model_checkpoint_cb = ModelCheckpoint('chack',\n",
    "                                      save_best_only=True)\n",
    "run_index = 1 # increment every time you train the model\n",
    "run_logdir = Path() / \"my_cifar10_logs\" / f\"run_{run_index:03d}\"\n",
    "tensorboard_cb = tf.keras.callbacks.TensorBoard(run_logdir)\n",
    "callbacks = [early_stopping_cb, model_checkpoint_cb, tensorboard_cb]\n",
    "\n",
    "%load_ext tensorboard\n",
    "%tensorboard --logdir=./my_cifar10_logs\n",
    "\n",
    "model.fit(X_train, y_train, epochs=20,\n",
    "          validation_batch_size=0.2,\n",
    "          callbacks=callbacks)"
   ]
  },
  {
   "cell_type": "code",
   "execution_count": 14,
   "metadata": {},
   "outputs": [],
   "source": [
    "tf.keras.backend.clear_session()\n",
    "tf.random.set_seed(42)"
   ]
  },
  {
   "cell_type": "code",
   "execution_count": 15,
   "metadata": {},
   "outputs": [
    {
     "name": "stdout",
     "output_type": "stream",
     "text": [
      "The tensorboard extension is already loaded. To reload it, use:\n",
      "  %reload_ext tensorboard\n"
     ]
    },
    {
     "data": {
      "text/plain": [
       "Reusing TensorBoard on port 6006 (pid 4020), started 18:12:30 ago. (Use '!kill 4020' to kill it.)"
      ]
     },
     "metadata": {},
     "output_type": "display_data"
    },
    {
     "data": {
      "text/html": [
       "\n",
       "      <iframe id=\"tensorboard-frame-b6bbb8db92836925\" width=\"100%\" height=\"800\" frameborder=\"0\">\n",
       "      </iframe>\n",
       "      <script>\n",
       "        (function() {\n",
       "          const frame = document.getElementById(\"tensorboard-frame-b6bbb8db92836925\");\n",
       "          const url = new URL(\"http://localhost\");\n",
       "          const port = 6006;\n",
       "          if (port) {\n",
       "            url.port = port;\n",
       "          }\n",
       "          frame.src = url;\n",
       "        })();\n",
       "      </script>\n",
       "    "
      ],
      "text/plain": [
       "<IPython.core.display.HTML object>"
      ]
     },
     "metadata": {},
     "output_type": "display_data"
    },
    {
     "name": "stdout",
     "output_type": "stream",
     "text": [
      "Epoch 1/20\n",
      "1556/1563 [============================>.] - ETA: 0s - loss: 2.8315 - accuracy: 0.1789WARNING:tensorflow:Early stopping conditioned on metric `val_loss` which is not available. Available metrics are: loss,accuracy\n",
      "WARNING:tensorflow:Can save best model only with val_loss available, skipping.\n",
      "1563/1563 [==============================] - 12s 6ms/step - loss: 2.8287 - accuracy: 0.1788\n",
      "Epoch 2/20\n",
      "1558/1563 [============================>.] - ETA: 0s - loss: 1.9919 - accuracy: 0.2633WARNING:tensorflow:Early stopping conditioned on metric `val_loss` which is not available. Available metrics are: loss,accuracy\n",
      "WARNING:tensorflow:Can save best model only with val_loss available, skipping.\n",
      "1563/1563 [==============================] - 9s 6ms/step - loss: 1.9920 - accuracy: 0.2632\n",
      "Epoch 3/20\n",
      "1561/1563 [============================>.] - ETA: 0s - loss: 1.8833 - accuracy: 0.3091WARNING:tensorflow:Early stopping conditioned on metric `val_loss` which is not available. Available metrics are: loss,accuracy\n",
      "WARNING:tensorflow:Can save best model only with val_loss available, skipping.\n",
      "1563/1563 [==============================] - 9s 6ms/step - loss: 1.8834 - accuracy: 0.3091\n",
      "Epoch 4/20\n",
      "1560/1563 [============================>.] - ETA: 0s - loss: 1.8134 - accuracy: 0.3399WARNING:tensorflow:Early stopping conditioned on metric `val_loss` which is not available. Available metrics are: loss,accuracy\n",
      "WARNING:tensorflow:Can save best model only with val_loss available, skipping.\n",
      "1563/1563 [==============================] - 9s 6ms/step - loss: 1.8138 - accuracy: 0.3398\n",
      "Epoch 5/20\n",
      "1560/1563 [============================>.] - ETA: 0s - loss: 1.7601 - accuracy: 0.3632WARNING:tensorflow:Early stopping conditioned on metric `val_loss` which is not available. Available metrics are: loss,accuracy\n",
      "WARNING:tensorflow:Can save best model only with val_loss available, skipping.\n",
      "1563/1563 [==============================] - 10s 6ms/step - loss: 1.7599 - accuracy: 0.3632\n",
      "Epoch 6/20\n",
      "1554/1563 [============================>.] - ETA: 0s - loss: 1.7088 - accuracy: 0.3820WARNING:tensorflow:Early stopping conditioned on metric `val_loss` which is not available. Available metrics are: loss,accuracy\n",
      "WARNING:tensorflow:Can save best model only with val_loss available, skipping.\n",
      "1563/1563 [==============================] - 9s 6ms/step - loss: 1.7083 - accuracy: 0.3820\n",
      "Epoch 7/20\n",
      "1561/1563 [============================>.] - ETA: 0s - loss: 1.6631 - accuracy: 0.3983WARNING:tensorflow:Early stopping conditioned on metric `val_loss` which is not available. Available metrics are: loss,accuracy\n",
      "WARNING:tensorflow:Can save best model only with val_loss available, skipping.\n",
      "1563/1563 [==============================] - 9s 6ms/step - loss: 1.6628 - accuracy: 0.3984\n",
      "Epoch 8/20\n",
      "1556/1563 [============================>.] - ETA: 0s - loss: 1.6335 - accuracy: 0.4120WARNING:tensorflow:Early stopping conditioned on metric `val_loss` which is not available. Available metrics are: loss,accuracy\n",
      "WARNING:tensorflow:Can save best model only with val_loss available, skipping.\n",
      "1563/1563 [==============================] - 9s 6ms/step - loss: 1.6337 - accuracy: 0.4119\n",
      "Epoch 9/20\n",
      "1562/1563 [============================>.] - ETA: 0s - loss: 1.6026 - accuracy: 0.4248WARNING:tensorflow:Early stopping conditioned on metric `val_loss` which is not available. Available metrics are: loss,accuracy\n",
      "WARNING:tensorflow:Can save best model only with val_loss available, skipping.\n",
      "1563/1563 [==============================] - 10s 7ms/step - loss: 1.6026 - accuracy: 0.4248\n",
      "Epoch 10/20\n",
      "1561/1563 [============================>.] - ETA: 0s - loss: 1.5829 - accuracy: 0.4347WARNING:tensorflow:Early stopping conditioned on metric `val_loss` which is not available. Available metrics are: loss,accuracy\n",
      "WARNING:tensorflow:Can save best model only with val_loss available, skipping.\n",
      "1563/1563 [==============================] - 10s 6ms/step - loss: 1.5830 - accuracy: 0.4346\n",
      "Epoch 11/20\n",
      "1560/1563 [============================>.] - ETA: 0s - loss: 1.5597 - accuracy: 0.4408WARNING:tensorflow:Early stopping conditioned on metric `val_loss` which is not available. Available metrics are: loss,accuracy\n",
      "WARNING:tensorflow:Can save best model only with val_loss available, skipping.\n",
      "1563/1563 [==============================] - 9s 6ms/step - loss: 1.5601 - accuracy: 0.4407\n",
      "Epoch 12/20\n",
      "1555/1563 [============================>.] - ETA: 0s - loss: 1.5469 - accuracy: 0.4456WARNING:tensorflow:Early stopping conditioned on metric `val_loss` which is not available. Available metrics are: loss,accuracy\n",
      "WARNING:tensorflow:Can save best model only with val_loss available, skipping.\n",
      "1563/1563 [==============================] - 9s 6ms/step - loss: 1.5472 - accuracy: 0.4456\n",
      "Epoch 13/20\n",
      "1561/1563 [============================>.] - ETA: 0s - loss: 1.5278 - accuracy: 0.4509WARNING:tensorflow:Early stopping conditioned on metric `val_loss` which is not available. Available metrics are: loss,accuracy\n",
      "WARNING:tensorflow:Can save best model only with val_loss available, skipping.\n",
      "1563/1563 [==============================] - 9s 6ms/step - loss: 1.5279 - accuracy: 0.4507\n",
      "Epoch 14/20\n",
      "1560/1563 [============================>.] - ETA: 0s - loss: 1.5128 - accuracy: 0.4571WARNING:tensorflow:Early stopping conditioned on metric `val_loss` which is not available. Available metrics are: loss,accuracy\n",
      "WARNING:tensorflow:Can save best model only with val_loss available, skipping.\n",
      "1563/1563 [==============================] - 9s 6ms/step - loss: 1.5127 - accuracy: 0.4570\n",
      "Epoch 15/20\n",
      "1563/1563 [==============================] - ETA: 0s - loss: 1.4991 - accuracy: 0.4622WARNING:tensorflow:Early stopping conditioned on metric `val_loss` which is not available. Available metrics are: loss,accuracy\n",
      "WARNING:tensorflow:Can save best model only with val_loss available, skipping.\n",
      "1563/1563 [==============================] - 9s 6ms/step - loss: 1.4991 - accuracy: 0.4622\n",
      "Epoch 16/20\n",
      "1560/1563 [============================>.] - ETA: 0s - loss: 1.4858 - accuracy: 0.4699WARNING:tensorflow:Early stopping conditioned on metric `val_loss` which is not available. Available metrics are: loss,accuracy\n",
      "WARNING:tensorflow:Can save best model only with val_loss available, skipping.\n",
      "1563/1563 [==============================] - 9s 6ms/step - loss: 1.4856 - accuracy: 0.4699\n",
      "Epoch 17/20\n",
      "1558/1563 [============================>.] - ETA: 0s - loss: 1.4712 - accuracy: 0.4744WARNING:tensorflow:Early stopping conditioned on metric `val_loss` which is not available. Available metrics are: loss,accuracy\n",
      "WARNING:tensorflow:Can save best model only with val_loss available, skipping.\n",
      "1563/1563 [==============================] - 10s 6ms/step - loss: 1.4710 - accuracy: 0.4745\n",
      "Epoch 18/20\n",
      "1555/1563 [============================>.] - ETA: 0s - loss: 1.4612 - accuracy: 0.4753WARNING:tensorflow:Early stopping conditioned on metric `val_loss` which is not available. Available metrics are: loss,accuracy\n",
      "WARNING:tensorflow:Can save best model only with val_loss available, skipping.\n",
      "1563/1563 [==============================] - 9s 6ms/step - loss: 1.4620 - accuracy: 0.4748\n",
      "Epoch 19/20\n",
      "1558/1563 [============================>.] - ETA: 0s - loss: 1.4490 - accuracy: 0.4803WARNING:tensorflow:Early stopping conditioned on metric `val_loss` which is not available. Available metrics are: loss,accuracy\n",
      "WARNING:tensorflow:Can save best model only with val_loss available, skipping.\n",
      "1563/1563 [==============================] - 9s 6ms/step - loss: 1.4489 - accuracy: 0.4804\n",
      "Epoch 20/20\n",
      "1557/1563 [============================>.] - ETA: 0s - loss: 1.4389 - accuracy: 0.4855WARNING:tensorflow:Early stopping conditioned on metric `val_loss` which is not available. Available metrics are: loss,accuracy\n",
      "WARNING:tensorflow:Can save best model only with val_loss available, skipping.\n",
      "1563/1563 [==============================] - 9s 6ms/step - loss: 1.4391 - accuracy: 0.4854\n"
     ]
    },
    {
     "data": {
      "text/plain": [
       "<keras.callbacks.History at 0x1d12b5768d0>"
      ]
     },
     "execution_count": 15,
     "metadata": {},
     "output_type": "execute_result"
    }
   ],
   "source": [
    "model = Sequential()\n",
    "model.add(Flatten(input_shape=[32, 32, 3]))\n",
    "for _ in range(20):\n",
    "    model.add(Dense(100,\n",
    "                    activation=\"swish\",\n",
    "                    kernel_initializer=\"he_normal\"))\n",
    "model.add(Dense(10, activation=softmax))\n",
    "\n",
    "optimizer = Nadam(learning_rate=1e-4)\n",
    "model.compile(loss=sparse_categorical_crossentropy,\n",
    "              optimizer=optimizer,\n",
    "              metrics=[\"accuracy\"])\n",
    "\n",
    "early_stopping_cb = EarlyStopping(patience=20,\n",
    "                                  restore_best_weights=True)\n",
    "model_checkpoint_cb = ModelCheckpoint('chack',\n",
    "                                      save_best_only=True)\n",
    "run_index = 1 # increment every time you train the model\n",
    "run_logdir = Path() / \"my_cifar10_logs\" / f\"run_{run_index:03d}\"\n",
    "tensorboard_cb = tf.keras.callbacks.TensorBoard(run_logdir)\n",
    "callbacks = [early_stopping_cb, model_checkpoint_cb, tensorboard_cb]\n",
    "\n",
    "%load_ext tensorboard\n",
    "%tensorboard --logdir=./my_cifar10_logs\n",
    "\n",
    "model.fit(X_train, y_train, epochs=20,\n",
    "          validation_batch_size=0.2,\n",
    "          callbacks=callbacks)"
   ]
  },
  {
   "cell_type": "code",
   "execution_count": 16,
   "metadata": {},
   "outputs": [],
   "source": [
    "tf.keras.backend.clear_session()\n",
    "tf.random.set_seed(42)"
   ]
  },
  {
   "cell_type": "code",
   "execution_count": 17,
   "metadata": {},
   "outputs": [
    {
     "name": "stdout",
     "output_type": "stream",
     "text": [
      "The tensorboard extension is already loaded. To reload it, use:\n",
      "  %reload_ext tensorboard\n"
     ]
    },
    {
     "data": {
      "text/plain": [
       "Reusing TensorBoard on port 6006 (pid 4020), started 18:15:38 ago. (Use '!kill 4020' to kill it.)"
      ]
     },
     "metadata": {},
     "output_type": "display_data"
    },
    {
     "data": {
      "text/html": [
       "\n",
       "      <iframe id=\"tensorboard-frame-9c4bd60e93bc814e\" width=\"100%\" height=\"800\" frameborder=\"0\">\n",
       "      </iframe>\n",
       "      <script>\n",
       "        (function() {\n",
       "          const frame = document.getElementById(\"tensorboard-frame-9c4bd60e93bc814e\");\n",
       "          const url = new URL(\"http://localhost\");\n",
       "          const port = 6006;\n",
       "          if (port) {\n",
       "            url.port = port;\n",
       "          }\n",
       "          frame.src = url;\n",
       "        })();\n",
       "      </script>\n",
       "    "
      ],
      "text/plain": [
       "<IPython.core.display.HTML object>"
      ]
     },
     "metadata": {},
     "output_type": "display_data"
    },
    {
     "name": "stdout",
     "output_type": "stream",
     "text": [
      "Epoch 1/20\n",
      "1563/1563 [==============================] - ETA: 0s - loss: 4.7224 - accuracy: 0.1563WARNING:tensorflow:Early stopping conditioned on metric `val_loss` which is not available. Available metrics are: loss,accuracy\n",
      "WARNING:tensorflow:Can save best model only with val_loss available, skipping.\n",
      "1563/1563 [==============================] - 12s 6ms/step - loss: 4.7224 - accuracy: 0.1563\n",
      "Epoch 2/20\n",
      "1559/1563 [============================>.] - ETA: 0s - loss: 2.0739 - accuracy: 0.2376WARNING:tensorflow:Early stopping conditioned on metric `val_loss` which is not available. Available metrics are: loss,accuracy\n",
      "WARNING:tensorflow:Can save best model only with val_loss available, skipping.\n",
      "1563/1563 [==============================] - 9s 6ms/step - loss: 2.0739 - accuracy: 0.2376\n",
      "Epoch 3/20\n",
      "1557/1563 [============================>.] - ETA: 0s - loss: 1.9468 - accuracy: 0.2843WARNING:tensorflow:Early stopping conditioned on metric `val_loss` which is not available. Available metrics are: loss,accuracy\n",
      "WARNING:tensorflow:Can save best model only with val_loss available, skipping.\n",
      "1563/1563 [==============================] - 9s 6ms/step - loss: 1.9469 - accuracy: 0.2843\n",
      "Epoch 4/20\n",
      "1556/1563 [============================>.] - ETA: 0s - loss: 1.8744 - accuracy: 0.3138WARNING:tensorflow:Early stopping conditioned on metric `val_loss` which is not available. Available metrics are: loss,accuracy\n",
      "WARNING:tensorflow:Can save best model only with val_loss available, skipping.\n",
      "1563/1563 [==============================] - 10s 6ms/step - loss: 1.8745 - accuracy: 0.3137\n",
      "Epoch 5/20\n",
      "1559/1563 [============================>.] - ETA: 0s - loss: 1.8165 - accuracy: 0.3379WARNING:tensorflow:Early stopping conditioned on metric `val_loss` which is not available. Available metrics are: loss,accuracy\n",
      "WARNING:tensorflow:Can save best model only with val_loss available, skipping.\n",
      "1563/1563 [==============================] - 9s 6ms/step - loss: 1.8163 - accuracy: 0.3379\n",
      "Epoch 6/20\n",
      "1557/1563 [============================>.] - ETA: 0s - loss: 1.7653 - accuracy: 0.3621WARNING:tensorflow:Early stopping conditioned on metric `val_loss` which is not available. Available metrics are: loss,accuracy\n",
      "WARNING:tensorflow:Can save best model only with val_loss available, skipping.\n",
      "1563/1563 [==============================] - 9s 6ms/step - loss: 1.7651 - accuracy: 0.3622\n",
      "Epoch 7/20\n",
      "1561/1563 [============================>.] - ETA: 0s - loss: 1.7188 - accuracy: 0.3818WARNING:tensorflow:Early stopping conditioned on metric `val_loss` which is not available. Available metrics are: loss,accuracy\n",
      "WARNING:tensorflow:Can save best model only with val_loss available, skipping.\n",
      "1563/1563 [==============================] - 9s 6ms/step - loss: 1.7185 - accuracy: 0.3819\n",
      "Epoch 8/20\n",
      "1556/1563 [============================>.] - ETA: 0s - loss: 1.6790 - accuracy: 0.3937WARNING:tensorflow:Early stopping conditioned on metric `val_loss` which is not available. Available metrics are: loss,accuracy\n",
      "WARNING:tensorflow:Can save best model only with val_loss available, skipping.\n",
      "1563/1563 [==============================] - 10s 6ms/step - loss: 1.6790 - accuracy: 0.3937\n",
      "Epoch 9/20\n",
      "1556/1563 [============================>.] - ETA: 0s - loss: 1.6460 - accuracy: 0.4085WARNING:tensorflow:Early stopping conditioned on metric `val_loss` which is not available. Available metrics are: loss,accuracy\n",
      "WARNING:tensorflow:Can save best model only with val_loss available, skipping.\n",
      "1563/1563 [==============================] - 9s 6ms/step - loss: 1.6462 - accuracy: 0.4084\n",
      "Epoch 10/20\n",
      "1557/1563 [============================>.] - ETA: 0s - loss: 1.6160 - accuracy: 0.4205WARNING:tensorflow:Early stopping conditioned on metric `val_loss` which is not available. Available metrics are: loss,accuracy\n",
      "WARNING:tensorflow:Can save best model only with val_loss available, skipping.\n",
      "1563/1563 [==============================] - 10s 6ms/step - loss: 1.6164 - accuracy: 0.4202\n",
      "Epoch 11/20\n",
      "1562/1563 [============================>.] - ETA: 0s - loss: 1.5928 - accuracy: 0.4287WARNING:tensorflow:Early stopping conditioned on metric `val_loss` which is not available. Available metrics are: loss,accuracy\n",
      "WARNING:tensorflow:Can save best model only with val_loss available, skipping.\n",
      "1563/1563 [==============================] - 9s 6ms/step - loss: 1.5929 - accuracy: 0.4287\n",
      "Epoch 12/20\n",
      "1555/1563 [============================>.] - ETA: 0s - loss: 1.5739 - accuracy: 0.4396WARNING:tensorflow:Early stopping conditioned on metric `val_loss` which is not available. Available metrics are: loss,accuracy\n",
      "WARNING:tensorflow:Can save best model only with val_loss available, skipping.\n",
      "1563/1563 [==============================] - 9s 6ms/step - loss: 1.5742 - accuracy: 0.4396\n",
      "Epoch 13/20\n",
      "1555/1563 [============================>.] - ETA: 0s - loss: 1.5544 - accuracy: 0.4450WARNING:tensorflow:Early stopping conditioned on metric `val_loss` which is not available. Available metrics are: loss,accuracy\n",
      "WARNING:tensorflow:Can save best model only with val_loss available, skipping.\n",
      "1563/1563 [==============================] - 9s 6ms/step - loss: 1.5547 - accuracy: 0.4447\n",
      "Epoch 14/20\n",
      "1561/1563 [============================>.] - ETA: 0s - loss: 1.5358 - accuracy: 0.4503WARNING:tensorflow:Early stopping conditioned on metric `val_loss` which is not available. Available metrics are: loss,accuracy\n",
      "WARNING:tensorflow:Can save best model only with val_loss available, skipping.\n",
      "1563/1563 [==============================] - 9s 6ms/step - loss: 1.5358 - accuracy: 0.4502\n",
      "Epoch 15/20\n",
      "1562/1563 [============================>.] - ETA: 0s - loss: 1.5223 - accuracy: 0.4558WARNING:tensorflow:Early stopping conditioned on metric `val_loss` which is not available. Available metrics are: loss,accuracy\n",
      "WARNING:tensorflow:Can save best model only with val_loss available, skipping.\n",
      "1563/1563 [==============================] - 9s 6ms/step - loss: 1.5222 - accuracy: 0.4558\n",
      "Epoch 16/20\n",
      "1562/1563 [============================>.] - ETA: 0s - loss: 1.5048 - accuracy: 0.4624WARNING:tensorflow:Early stopping conditioned on metric `val_loss` which is not available. Available metrics are: loss,accuracy\n",
      "WARNING:tensorflow:Can save best model only with val_loss available, skipping.\n",
      "1563/1563 [==============================] - 9s 6ms/step - loss: 1.5047 - accuracy: 0.4624\n",
      "Epoch 17/20\n",
      "1561/1563 [============================>.] - ETA: 0s - loss: 1.4913 - accuracy: 0.4648WARNING:tensorflow:Early stopping conditioned on metric `val_loss` which is not available. Available metrics are: loss,accuracy\n",
      "WARNING:tensorflow:Can save best model only with val_loss available, skipping.\n",
      "1563/1563 [==============================] - 9s 6ms/step - loss: 1.4913 - accuracy: 0.4648\n",
      "Epoch 18/20\n",
      "1560/1563 [============================>.] - ETA: 0s - loss: 1.4789 - accuracy: 0.4714WARNING:tensorflow:Early stopping conditioned on metric `val_loss` which is not available. Available metrics are: loss,accuracy\n",
      "WARNING:tensorflow:Can save best model only with val_loss available, skipping.\n",
      "1563/1563 [==============================] - 9s 6ms/step - loss: 1.4794 - accuracy: 0.4711\n",
      "Epoch 19/20\n",
      "1560/1563 [============================>.] - ETA: 0s - loss: 1.4660 - accuracy: 0.4741WARNING:tensorflow:Early stopping conditioned on metric `val_loss` which is not available. Available metrics are: loss,accuracy\n",
      "WARNING:tensorflow:Can save best model only with val_loss available, skipping.\n",
      "1563/1563 [==============================] - 9s 6ms/step - loss: 1.4660 - accuracy: 0.4741\n",
      "Epoch 20/20\n",
      "1556/1563 [============================>.] - ETA: 0s - loss: 1.4549 - accuracy: 0.4791WARNING:tensorflow:Early stopping conditioned on metric `val_loss` which is not available. Available metrics are: loss,accuracy\n",
      "WARNING:tensorflow:Can save best model only with val_loss available, skipping.\n",
      "1563/1563 [==============================] - 9s 6ms/step - loss: 1.4550 - accuracy: 0.4790\n"
     ]
    },
    {
     "data": {
      "text/plain": [
       "<keras.callbacks.History at 0x1d12b5ef0d0>"
      ]
     },
     "execution_count": 17,
     "metadata": {},
     "output_type": "execute_result"
    }
   ],
   "source": [
    "model = Sequential()\n",
    "model.add(Flatten(input_shape=[32, 32, 3]))\n",
    "for _ in range(20):\n",
    "    model.add(Dense(100,\n",
    "                    activation=\"swish\",\n",
    "                    kernel_initializer=\"he_normal\"))\n",
    "model.add(Dense(10, activation=softmax))\n",
    "\n",
    "optimizer = Nadam(learning_rate=5e-5)\n",
    "model.compile(loss=sparse_categorical_crossentropy,\n",
    "              optimizer=optimizer,\n",
    "              metrics=[\"accuracy\"])\n",
    "\n",
    "early_stopping_cb = EarlyStopping(patience=20,\n",
    "                                  restore_best_weights=True)\n",
    "model_checkpoint_cb = ModelCheckpoint('chack',\n",
    "                                      save_best_only=True)\n",
    "run_index = 1 # increment every time you train the model\n",
    "run_logdir = Path() / \"my_cifar10_logs\" / f\"run_{run_index:03d}\"\n",
    "tensorboard_cb = tf.keras.callbacks.TensorBoard(run_logdir)\n",
    "callbacks = [early_stopping_cb, model_checkpoint_cb, tensorboard_cb]\n",
    "\n",
    "%load_ext tensorboard\n",
    "%tensorboard --logdir=./my_cifar10_logs\n",
    "\n",
    "model.fit(X_train, y_train, epochs=20,\n",
    "          validation_batch_size=0.2,\n",
    "          callbacks=callbacks)"
   ]
  },
  {
   "cell_type": "code",
   "execution_count": 18,
   "metadata": {},
   "outputs": [],
   "source": [
    "tf.keras.backend.clear_session()\n",
    "tf.random.set_seed(42)"
   ]
  },
  {
   "cell_type": "code",
   "execution_count": 19,
   "metadata": {},
   "outputs": [
    {
     "name": "stdout",
     "output_type": "stream",
     "text": [
      "The tensorboard extension is already loaded. To reload it, use:\n",
      "  %reload_ext tensorboard\n"
     ]
    },
    {
     "data": {
      "text/plain": [
       "Reusing TensorBoard on port 6006 (pid 4020), started 18:18:45 ago. (Use '!kill 4020' to kill it.)"
      ]
     },
     "metadata": {},
     "output_type": "display_data"
    },
    {
     "data": {
      "text/html": [
       "\n",
       "      <iframe id=\"tensorboard-frame-6ea69e0ab491958b\" width=\"100%\" height=\"800\" frameborder=\"0\">\n",
       "      </iframe>\n",
       "      <script>\n",
       "        (function() {\n",
       "          const frame = document.getElementById(\"tensorboard-frame-6ea69e0ab491958b\");\n",
       "          const url = new URL(\"http://localhost\");\n",
       "          const port = 6006;\n",
       "          if (port) {\n",
       "            url.port = port;\n",
       "          }\n",
       "          frame.src = url;\n",
       "        })();\n",
       "      </script>\n",
       "    "
      ],
      "text/plain": [
       "<IPython.core.display.HTML object>"
      ]
     },
     "metadata": {},
     "output_type": "display_data"
    },
    {
     "name": "stdout",
     "output_type": "stream",
     "text": [
      "Epoch 1/20\n",
      "1560/1563 [============================>.] - ETA: 0s - loss: 10.0865 - accuracy: 0.1171WARNING:tensorflow:Early stopping conditioned on metric `val_loss` which is not available. Available metrics are: loss,accuracy\n",
      "WARNING:tensorflow:Can save best model only with val_loss available, skipping.\n",
      "1563/1563 [==============================] - 12s 6ms/step - loss: 10.0746 - accuracy: 0.1173\n",
      "Epoch 2/20\n",
      "1562/1563 [============================>.] - ETA: 0s - loss: 2.3913 - accuracy: 0.1768WARNING:tensorflow:Early stopping conditioned on metric `val_loss` which is not available. Available metrics are: loss,accuracy\n",
      "WARNING:tensorflow:Can save best model only with val_loss available, skipping.\n",
      "1563/1563 [==============================] - 9s 6ms/step - loss: 2.3912 - accuracy: 0.1768\n",
      "Epoch 3/20\n",
      "1555/1563 [============================>.] - ETA: 0s - loss: 2.1577 - accuracy: 0.2186WARNING:tensorflow:Early stopping conditioned on metric `val_loss` which is not available. Available metrics are: loss,accuracy\n",
      "WARNING:tensorflow:Can save best model only with val_loss available, skipping.\n",
      "1563/1563 [==============================] - 9s 6ms/step - loss: 2.1574 - accuracy: 0.2186\n",
      "Epoch 4/20\n",
      "1559/1563 [============================>.] - ETA: 0s - loss: 2.0511 - accuracy: 0.2541WARNING:tensorflow:Early stopping conditioned on metric `val_loss` which is not available. Available metrics are: loss,accuracy\n",
      "WARNING:tensorflow:Can save best model only with val_loss available, skipping.\n",
      "1563/1563 [==============================] - 10s 6ms/step - loss: 2.0512 - accuracy: 0.2540\n",
      "Epoch 5/20\n",
      "1555/1563 [============================>.] - ETA: 0s - loss: 1.9708 - accuracy: 0.2808WARNING:tensorflow:Early stopping conditioned on metric `val_loss` which is not available. Available metrics are: loss,accuracy\n",
      "WARNING:tensorflow:Can save best model only with val_loss available, skipping.\n",
      "1563/1563 [==============================] - 9s 6ms/step - loss: 1.9705 - accuracy: 0.2808\n",
      "Epoch 6/20\n",
      "1563/1563 [==============================] - ETA: 0s - loss: 1.9102 - accuracy: 0.3047WARNING:tensorflow:Early stopping conditioned on metric `val_loss` which is not available. Available metrics are: loss,accuracy\n",
      "WARNING:tensorflow:Can save best model only with val_loss available, skipping.\n",
      "1563/1563 [==============================] - 9s 6ms/step - loss: 1.9102 - accuracy: 0.3047\n",
      "Epoch 7/20\n",
      "1556/1563 [============================>.] - ETA: 0s - loss: 1.8636 - accuracy: 0.3222WARNING:tensorflow:Early stopping conditioned on metric `val_loss` which is not available. Available metrics are: loss,accuracy\n",
      "WARNING:tensorflow:Can save best model only with val_loss available, skipping.\n",
      "1563/1563 [==============================] - 9s 6ms/step - loss: 1.8636 - accuracy: 0.3222\n",
      "Epoch 8/20\n",
      "1560/1563 [============================>.] - ETA: 0s - loss: 1.8271 - accuracy: 0.3359WARNING:tensorflow:Early stopping conditioned on metric `val_loss` which is not available. Available metrics are: loss,accuracy\n",
      "WARNING:tensorflow:Can save best model only with val_loss available, skipping.\n",
      "1563/1563 [==============================] - 10s 6ms/step - loss: 1.8272 - accuracy: 0.3357\n",
      "Epoch 9/20\n",
      "1556/1563 [============================>.] - ETA: 0s - loss: 1.7941 - accuracy: 0.3494WARNING:tensorflow:Early stopping conditioned on metric `val_loss` which is not available. Available metrics are: loss,accuracy\n",
      "WARNING:tensorflow:Can save best model only with val_loss available, skipping.\n",
      "1563/1563 [==============================] - 9s 6ms/step - loss: 1.7941 - accuracy: 0.3495\n",
      "Epoch 10/20\n",
      "1558/1563 [============================>.] - ETA: 0s - loss: 1.7679 - accuracy: 0.3600WARNING:tensorflow:Early stopping conditioned on metric `val_loss` which is not available. Available metrics are: loss,accuracy\n",
      "WARNING:tensorflow:Can save best model only with val_loss available, skipping.\n",
      "1563/1563 [==============================] - 9s 6ms/step - loss: 1.7680 - accuracy: 0.3599\n",
      "Epoch 11/20\n",
      "1557/1563 [============================>.] - ETA: 0s - loss: 1.7417 - accuracy: 0.3700WARNING:tensorflow:Early stopping conditioned on metric `val_loss` which is not available. Available metrics are: loss,accuracy\n",
      "WARNING:tensorflow:Can save best model only with val_loss available, skipping.\n",
      "1563/1563 [==============================] - 9s 6ms/step - loss: 1.7423 - accuracy: 0.3699\n",
      "Epoch 12/20\n",
      "1560/1563 [============================>.] - ETA: 0s - loss: 1.7225 - accuracy: 0.3756WARNING:tensorflow:Early stopping conditioned on metric `val_loss` which is not available. Available metrics are: loss,accuracy\n",
      "WARNING:tensorflow:Can save best model only with val_loss available, skipping.\n",
      "1563/1563 [==============================] - 9s 6ms/step - loss: 1.7224 - accuracy: 0.3756\n",
      "Epoch 13/20\n",
      "1556/1563 [============================>.] - ETA: 0s - loss: 1.7046 - accuracy: 0.3814WARNING:tensorflow:Early stopping conditioned on metric `val_loss` which is not available. Available metrics are: loss,accuracy\n",
      "WARNING:tensorflow:Can save best model only with val_loss available, skipping.\n",
      "1563/1563 [==============================] - 9s 6ms/step - loss: 1.7042 - accuracy: 0.3813\n",
      "Epoch 14/20\n",
      "1562/1563 [============================>.] - ETA: 0s - loss: 1.6846 - accuracy: 0.3902WARNING:tensorflow:Early stopping conditioned on metric `val_loss` which is not available. Available metrics are: loss,accuracy\n",
      "WARNING:tensorflow:Can save best model only with val_loss available, skipping.\n",
      "1563/1563 [==============================] - 9s 6ms/step - loss: 1.6848 - accuracy: 0.3902\n",
      "Epoch 15/20\n",
      "1562/1563 [============================>.] - ETA: 0s - loss: 1.6702 - accuracy: 0.3949WARNING:tensorflow:Early stopping conditioned on metric `val_loss` which is not available. Available metrics are: loss,accuracy\n",
      "WARNING:tensorflow:Can save best model only with val_loss available, skipping.\n",
      "1563/1563 [==============================] - 9s 6ms/step - loss: 1.6702 - accuracy: 0.3949\n",
      "Epoch 16/20\n",
      "1555/1563 [============================>.] - ETA: 0s - loss: 1.6536 - accuracy: 0.4020WARNING:tensorflow:Early stopping conditioned on metric `val_loss` which is not available. Available metrics are: loss,accuracy\n",
      "WARNING:tensorflow:Can save best model only with val_loss available, skipping.\n",
      "1563/1563 [==============================] - 9s 6ms/step - loss: 1.6534 - accuracy: 0.4020\n",
      "Epoch 17/20\n",
      "1559/1563 [============================>.] - ETA: 0s - loss: 1.6395 - accuracy: 0.4088WARNING:tensorflow:Early stopping conditioned on metric `val_loss` which is not available. Available metrics are: loss,accuracy\n",
      "WARNING:tensorflow:Can save best model only with val_loss available, skipping.\n",
      "1563/1563 [==============================] - 10s 6ms/step - loss: 1.6393 - accuracy: 0.4089\n",
      "Epoch 18/20\n",
      "1561/1563 [============================>.] - ETA: 0s - loss: 1.6244 - accuracy: 0.4129WARNING:tensorflow:Early stopping conditioned on metric `val_loss` which is not available. Available metrics are: loss,accuracy\n",
      "WARNING:tensorflow:Can save best model only with val_loss available, skipping.\n",
      "1563/1563 [==============================] - 9s 6ms/step - loss: 1.6248 - accuracy: 0.4127\n",
      "Epoch 19/20\n",
      "1563/1563 [==============================] - ETA: 0s - loss: 1.6107 - accuracy: 0.4179WARNING:tensorflow:Early stopping conditioned on metric `val_loss` which is not available. Available metrics are: loss,accuracy\n",
      "WARNING:tensorflow:Can save best model only with val_loss available, skipping.\n",
      "1563/1563 [==============================] - 9s 6ms/step - loss: 1.6107 - accuracy: 0.4179\n",
      "Epoch 20/20\n",
      "1559/1563 [============================>.] - ETA: 0s - loss: 1.5988 - accuracy: 0.4242WARNING:tensorflow:Early stopping conditioned on metric `val_loss` which is not available. Available metrics are: loss,accuracy\n",
      "WARNING:tensorflow:Can save best model only with val_loss available, skipping.\n",
      "1563/1563 [==============================] - 9s 6ms/step - loss: 1.5992 - accuracy: 0.4241\n"
     ]
    },
    {
     "data": {
      "text/plain": [
       "<keras.callbacks.History at 0x1d122c7afd0>"
      ]
     },
     "execution_count": 19,
     "metadata": {},
     "output_type": "execute_result"
    }
   ],
   "source": [
    "model = Sequential()\n",
    "model.add(Flatten(input_shape=[32, 32, 3]))\n",
    "for _ in range(20):\n",
    "    model.add(Dense(100,\n",
    "                    activation=\"swish\",\n",
    "                    kernel_initializer=\"he_normal\"))\n",
    "model.add(Dense(10, activation=softmax))\n",
    "\n",
    "optimizer = Nadam(learning_rate=1e-5)\n",
    "model.compile(loss=sparse_categorical_crossentropy,\n",
    "              optimizer=optimizer,\n",
    "              metrics=[\"accuracy\"])\n",
    "\n",
    "early_stopping_cb = EarlyStopping(patience=20,\n",
    "                                  restore_best_weights=True)\n",
    "model_checkpoint_cb = ModelCheckpoint('chack',\n",
    "                                      save_best_only=True)\n",
    "run_index = 1 # increment every time you train the model\n",
    "run_logdir = Path() / \"my_cifar10_logs\" / f\"run_{run_index:03d}\"\n",
    "tensorboard_cb = tf.keras.callbacks.TensorBoard(run_logdir)\n",
    "callbacks = [early_stopping_cb, model_checkpoint_cb, tensorboard_cb]\n",
    "\n",
    "%load_ext tensorboard\n",
    "%tensorboard --logdir=./my_cifar10_logs\n",
    "\n",
    "model.fit(X_train, y_train, epochs=20,\n",
    "          validation_batch_size=0.2,\n",
    "          callbacks=callbacks)"
   ]
  },
  {
   "cell_type": "code",
   "execution_count": 20,
   "metadata": {},
   "outputs": [],
   "source": [
    "tf.keras.backend.clear_session()\n",
    "tf.random.set_seed(42)"
   ]
  },
  {
   "cell_type": "code",
   "execution_count": 21,
   "metadata": {},
   "outputs": [
    {
     "name": "stdout",
     "output_type": "stream",
     "text": [
      "The tensorboard extension is already loaded. To reload it, use:\n",
      "  %reload_ext tensorboard\n"
     ]
    },
    {
     "data": {
      "text/plain": [
       "Reusing TensorBoard on port 6006 (pid 4020), started 18:21:52 ago. (Use '!kill 4020' to kill it.)"
      ]
     },
     "metadata": {},
     "output_type": "display_data"
    },
    {
     "data": {
      "text/html": [
       "\n",
       "      <iframe id=\"tensorboard-frame-9dca2b4f40e352f3\" width=\"100%\" height=\"800\" frameborder=\"0\">\n",
       "      </iframe>\n",
       "      <script>\n",
       "        (function() {\n",
       "          const frame = document.getElementById(\"tensorboard-frame-9dca2b4f40e352f3\");\n",
       "          const url = new URL(\"http://localhost\");\n",
       "          const port = 6006;\n",
       "          if (port) {\n",
       "            url.port = port;\n",
       "          }\n",
       "          frame.src = url;\n",
       "        })();\n",
       "      </script>\n",
       "    "
      ],
      "text/plain": [
       "<IPython.core.display.HTML object>"
      ]
     },
     "metadata": {},
     "output_type": "display_data"
    },
    {
     "name": "stdout",
     "output_type": "stream",
     "text": [
      "Epoch 1/20\n",
      "1561/1563 [============================>.] - ETA: 0s - loss: 17.1542 - accuracy: 0.1143WARNING:tensorflow:Early stopping conditioned on metric `val_loss` which is not available. Available metrics are: loss,accuracy\n",
      "WARNING:tensorflow:Can save best model only with val_loss available, skipping.\n",
      "1563/1563 [==============================] - 12s 6ms/step - loss: 17.1414 - accuracy: 0.1143\n",
      "Epoch 2/20\n",
      "1555/1563 [============================>.] - ETA: 0s - loss: 3.1066 - accuracy: 0.1246WARNING:tensorflow:Early stopping conditioned on metric `val_loss` which is not available. Available metrics are: loss,accuracy\n",
      "WARNING:tensorflow:Can save best model only with val_loss available, skipping.\n",
      "1563/1563 [==============================] - 9s 6ms/step - loss: 3.1042 - accuracy: 0.1246\n",
      "Epoch 3/20\n",
      "1560/1563 [============================>.] - ETA: 0s - loss: 2.4968 - accuracy: 0.1460WARNING:tensorflow:Early stopping conditioned on metric `val_loss` which is not available. Available metrics are: loss,accuracy\n",
      "WARNING:tensorflow:Can save best model only with val_loss available, skipping.\n",
      "1563/1563 [==============================] - 9s 6ms/step - loss: 2.4966 - accuracy: 0.1461\n",
      "Epoch 4/20\n",
      "1561/1563 [============================>.] - ETA: 0s - loss: 2.2868 - accuracy: 0.1790WARNING:tensorflow:Early stopping conditioned on metric `val_loss` which is not available. Available metrics are: loss,accuracy\n",
      "WARNING:tensorflow:Can save best model only with val_loss available, skipping.\n",
      "1563/1563 [==============================] - 10s 6ms/step - loss: 2.2868 - accuracy: 0.1790\n",
      "Epoch 5/20\n",
      "1563/1563 [==============================] - ETA: 0s - loss: 2.1503 - accuracy: 0.2135WARNING:tensorflow:Early stopping conditioned on metric `val_loss` which is not available. Available metrics are: loss,accuracy\n",
      "WARNING:tensorflow:Can save best model only with val_loss available, skipping.\n",
      "1563/1563 [==============================] - 9s 6ms/step - loss: 2.1503 - accuracy: 0.2135\n",
      "Epoch 6/20\n",
      "1563/1563 [==============================] - ETA: 0s - loss: 2.0685 - accuracy: 0.2359WARNING:tensorflow:Early stopping conditioned on metric `val_loss` which is not available. Available metrics are: loss,accuracy\n",
      "WARNING:tensorflow:Can save best model only with val_loss available, skipping.\n",
      "1563/1563 [==============================] - 9s 6ms/step - loss: 2.0685 - accuracy: 0.2359\n",
      "Epoch 7/20\n",
      "1558/1563 [============================>.] - ETA: 0s - loss: 2.0094 - accuracy: 0.2594WARNING:tensorflow:Early stopping conditioned on metric `val_loss` which is not available. Available metrics are: loss,accuracy\n",
      "WARNING:tensorflow:Can save best model only with val_loss available, skipping.\n",
      "1563/1563 [==============================] - 9s 6ms/step - loss: 2.0094 - accuracy: 0.2594\n",
      "Epoch 8/20\n",
      "1561/1563 [============================>.] - ETA: 0s - loss: 1.9667 - accuracy: 0.2751WARNING:tensorflow:Early stopping conditioned on metric `val_loss` which is not available. Available metrics are: loss,accuracy\n",
      "WARNING:tensorflow:Can save best model only with val_loss available, skipping.\n",
      "1563/1563 [==============================] - 9s 6ms/step - loss: 1.9667 - accuracy: 0.2751\n",
      "Epoch 9/20\n",
      "1557/1563 [============================>.] - ETA: 0s - loss: 1.9289 - accuracy: 0.2878WARNING:tensorflow:Early stopping conditioned on metric `val_loss` which is not available. Available metrics are: loss,accuracy\n",
      "WARNING:tensorflow:Can save best model only with val_loss available, skipping.\n",
      "1563/1563 [==============================] - 9s 6ms/step - loss: 1.9291 - accuracy: 0.2879\n",
      "Epoch 10/20\n",
      "1559/1563 [============================>.] - ETA: 0s - loss: 1.9010 - accuracy: 0.3026WARNING:tensorflow:Early stopping conditioned on metric `val_loss` which is not available. Available metrics are: loss,accuracy\n",
      "WARNING:tensorflow:Can save best model only with val_loss available, skipping.\n",
      "1563/1563 [==============================] - 9s 6ms/step - loss: 1.9012 - accuracy: 0.3025\n",
      "Epoch 11/20\n",
      "1563/1563 [==============================] - ETA: 0s - loss: 1.8764 - accuracy: 0.3136WARNING:tensorflow:Early stopping conditioned on metric `val_loss` which is not available. Available metrics are: loss,accuracy\n",
      "WARNING:tensorflow:Can save best model only with val_loss available, skipping.\n",
      "1563/1563 [==============================] - 9s 6ms/step - loss: 1.8764 - accuracy: 0.3136\n",
      "Epoch 12/20\n",
      "1558/1563 [============================>.] - ETA: 0s - loss: 1.8525 - accuracy: 0.3244WARNING:tensorflow:Early stopping conditioned on metric `val_loss` which is not available. Available metrics are: loss,accuracy\n",
      "WARNING:tensorflow:Can save best model only with val_loss available, skipping.\n",
      "1563/1563 [==============================] - 9s 6ms/step - loss: 1.8527 - accuracy: 0.3244\n",
      "Epoch 13/20\n",
      "1558/1563 [============================>.] - ETA: 0s - loss: 1.8331 - accuracy: 0.3348WARNING:tensorflow:Early stopping conditioned on metric `val_loss` which is not available. Available metrics are: loss,accuracy\n",
      "WARNING:tensorflow:Can save best model only with val_loss available, skipping.\n",
      "1563/1563 [==============================] - 10s 6ms/step - loss: 1.8331 - accuracy: 0.3347\n",
      "Epoch 14/20\n",
      "1557/1563 [============================>.] - ETA: 0s - loss: 1.8143 - accuracy: 0.3413WARNING:tensorflow:Early stopping conditioned on metric `val_loss` which is not available. Available metrics are: loss,accuracy\n",
      "WARNING:tensorflow:Can save best model only with val_loss available, skipping.\n",
      "1563/1563 [==============================] - 9s 6ms/step - loss: 1.8142 - accuracy: 0.3413\n",
      "Epoch 15/20\n",
      "1557/1563 [============================>.] - ETA: 0s - loss: 1.7990 - accuracy: 0.3492WARNING:tensorflow:Early stopping conditioned on metric `val_loss` which is not available. Available metrics are: loss,accuracy\n",
      "WARNING:tensorflow:Can save best model only with val_loss available, skipping.\n",
      "1563/1563 [==============================] - 10s 6ms/step - loss: 1.7988 - accuracy: 0.3493\n",
      "Epoch 16/20\n",
      "1555/1563 [============================>.] - ETA: 0s - loss: 1.7827 - accuracy: 0.3576WARNING:tensorflow:Early stopping conditioned on metric `val_loss` which is not available. Available metrics are: loss,accuracy\n",
      "WARNING:tensorflow:Can save best model only with val_loss available, skipping.\n",
      "1563/1563 [==============================] - 10s 7ms/step - loss: 1.7825 - accuracy: 0.3576\n",
      "Epoch 17/20\n",
      "1560/1563 [============================>.] - ETA: 0s - loss: 1.7689 - accuracy: 0.3596WARNING:tensorflow:Early stopping conditioned on metric `val_loss` which is not available. Available metrics are: loss,accuracy\n",
      "WARNING:tensorflow:Can save best model only with val_loss available, skipping.\n",
      "1563/1563 [==============================] - 10s 6ms/step - loss: 1.7686 - accuracy: 0.3596\n",
      "Epoch 18/20\n",
      "1557/1563 [============================>.] - ETA: 0s - loss: 1.7544 - accuracy: 0.3682WARNING:tensorflow:Early stopping conditioned on metric `val_loss` which is not available. Available metrics are: loss,accuracy\n",
      "WARNING:tensorflow:Can save best model only with val_loss available, skipping.\n",
      "1563/1563 [==============================] - 10s 6ms/step - loss: 1.7549 - accuracy: 0.3680\n",
      "Epoch 19/20\n",
      "1562/1563 [============================>.] - ETA: 0s - loss: 1.7417 - accuracy: 0.3723WARNING:tensorflow:Early stopping conditioned on metric `val_loss` which is not available. Available metrics are: loss,accuracy\n",
      "WARNING:tensorflow:Can save best model only with val_loss available, skipping.\n",
      "1563/1563 [==============================] - 9s 6ms/step - loss: 1.7418 - accuracy: 0.3723\n",
      "Epoch 20/20\n",
      "1556/1563 [============================>.] - ETA: 0s - loss: 1.7321 - accuracy: 0.3745WARNING:tensorflow:Early stopping conditioned on metric `val_loss` which is not available. Available metrics are: loss,accuracy\n",
      "WARNING:tensorflow:Can save best model only with val_loss available, skipping.\n",
      "1563/1563 [==============================] - 9s 6ms/step - loss: 1.7326 - accuracy: 0.3743\n"
     ]
    },
    {
     "data": {
      "text/plain": [
       "<keras.callbacks.History at 0x1d123f82210>"
      ]
     },
     "execution_count": 21,
     "metadata": {},
     "output_type": "execute_result"
    }
   ],
   "source": [
    "model = Sequential()\n",
    "model.add(Flatten(input_shape=[32, 32, 3]))\n",
    "for _ in range(20):\n",
    "    model.add(Dense(100,\n",
    "                    activation=\"swish\",\n",
    "                    kernel_initializer=\"he_normal\"))\n",
    "model.add(Dense(10, activation=softmax))\n",
    "\n",
    "optimizer = Nadam(learning_rate=5e-6)\n",
    "model.compile(loss=sparse_categorical_crossentropy,\n",
    "              optimizer=optimizer,\n",
    "              metrics=[\"accuracy\"])\n",
    "\n",
    "early_stopping_cb = EarlyStopping(patience=20,\n",
    "                                  restore_best_weights=True)\n",
    "model_checkpoint_cb = ModelCheckpoint('chack',\n",
    "                                      save_best_only=True)\n",
    "run_index = 1 # increment every time you train the model\n",
    "run_logdir = Path() / \"my_cifar10_logs\" / f\"run_{run_index:03d}\"\n",
    "tensorboard_cb = tf.keras.callbacks.TensorBoard(run_logdir)\n",
    "callbacks = [early_stopping_cb, model_checkpoint_cb, tensorboard_cb]\n",
    "\n",
    "%load_ext tensorboard\n",
    "%tensorboard --logdir=./my_cifar10_logs\n",
    "\n",
    "model.fit(X_train, y_train, epochs=20,\n",
    "          validation_batch_size=0.2,\n",
    "          callbacks=callbacks)"
   ]
  },
  {
   "cell_type": "code",
   "execution_count": 22,
   "metadata": {},
   "outputs": [],
   "source": [
    "tf.keras.backend.clear_session()\n",
    "tf.random.set_seed(42)"
   ]
  },
  {
   "cell_type": "code",
   "execution_count": 23,
   "metadata": {},
   "outputs": [
    {
     "name": "stdout",
     "output_type": "stream",
     "text": [
      "The tensorboard extension is already loaded. To reload it, use:\n",
      "  %reload_ext tensorboard\n"
     ]
    },
    {
     "data": {
      "text/plain": [
       "Reusing TensorBoard on port 6006 (pid 4020), started 18:25:02 ago. (Use '!kill 4020' to kill it.)"
      ]
     },
     "metadata": {},
     "output_type": "display_data"
    },
    {
     "data": {
      "text/html": [
       "\n",
       "      <iframe id=\"tensorboard-frame-c9d33b2149d39521\" width=\"100%\" height=\"800\" frameborder=\"0\">\n",
       "      </iframe>\n",
       "      <script>\n",
       "        (function() {\n",
       "          const frame = document.getElementById(\"tensorboard-frame-c9d33b2149d39521\");\n",
       "          const url = new URL(\"http://localhost\");\n",
       "          const port = 6006;\n",
       "          if (port) {\n",
       "            url.port = port;\n",
       "          }\n",
       "          frame.src = url;\n",
       "        })();\n",
       "      </script>\n",
       "    "
      ],
      "text/plain": [
       "<IPython.core.display.HTML object>"
      ]
     },
     "metadata": {},
     "output_type": "display_data"
    },
    {
     "name": "stdout",
     "output_type": "stream",
     "text": [
      "Epoch 1/20\n",
      "1558/1563 [============================>.] - ETA: 0s - loss: 44.2707 - accuracy: 0.1099WARNING:tensorflow:Early stopping conditioned on metric `val_loss` which is not available. Available metrics are: loss,accuracy\n",
      "WARNING:tensorflow:Can save best model only with val_loss available, skipping.\n",
      "1563/1563 [==============================] - 12s 5ms/step - loss: 44.1890 - accuracy: 0.1099\n",
      "Epoch 2/20\n",
      "1554/1563 [============================>.] - ETA: 0s - loss: 10.7555 - accuracy: 0.1110WARNING:tensorflow:Early stopping conditioned on metric `val_loss` which is not available. Available metrics are: loss,accuracy\n",
      "WARNING:tensorflow:Can save best model only with val_loss available, skipping.\n",
      "1563/1563 [==============================] - 9s 6ms/step - loss: 10.7372 - accuracy: 0.1110\n",
      "Epoch 3/20\n",
      "1557/1563 [============================>.] - ETA: 0s - loss: 6.0205 - accuracy: 0.1144WARNING:tensorflow:Early stopping conditioned on metric `val_loss` which is not available. Available metrics are: loss,accuracy\n",
      "WARNING:tensorflow:Can save best model only with val_loss available, skipping.\n",
      "1563/1563 [==============================] - 9s 6ms/step - loss: 6.0161 - accuracy: 0.1143\n",
      "Epoch 4/20\n",
      "1561/1563 [============================>.] - ETA: 0s - loss: 3.9332 - accuracy: 0.1216WARNING:tensorflow:Early stopping conditioned on metric `val_loss` which is not available. Available metrics are: loss,accuracy\n",
      "WARNING:tensorflow:Can save best model only with val_loss available, skipping.\n",
      "1563/1563 [==============================] - 9s 6ms/step - loss: 3.9329 - accuracy: 0.1216\n",
      "Epoch 5/20\n",
      "1558/1563 [============================>.] - ETA: 0s - loss: 3.1487 - accuracy: 0.1299WARNING:tensorflow:Early stopping conditioned on metric `val_loss` which is not available. Available metrics are: loss,accuracy\n",
      "WARNING:tensorflow:Can save best model only with val_loss available, skipping.\n",
      "1563/1563 [==============================] - 9s 6ms/step - loss: 3.1484 - accuracy: 0.1298\n",
      "Epoch 6/20\n",
      "1562/1563 [============================>.] - ETA: 0s - loss: 2.7942 - accuracy: 0.1389WARNING:tensorflow:Early stopping conditioned on metric `val_loss` which is not available. Available metrics are: loss,accuracy\n",
      "WARNING:tensorflow:Can save best model only with val_loss available, skipping.\n",
      "1563/1563 [==============================] - 9s 6ms/step - loss: 2.7939 - accuracy: 0.1390\n",
      "Epoch 7/20\n",
      "1559/1563 [============================>.] - ETA: 0s - loss: 2.5873 - accuracy: 0.1507WARNING:tensorflow:Early stopping conditioned on metric `val_loss` which is not available. Available metrics are: loss,accuracy\n",
      "WARNING:tensorflow:Can save best model only with val_loss available, skipping.\n",
      "1563/1563 [==============================] - 9s 6ms/step - loss: 2.5866 - accuracy: 0.1507\n",
      "Epoch 8/20\n",
      "1557/1563 [============================>.] - ETA: 0s - loss: 2.4530 - accuracy: 0.1623WARNING:tensorflow:Early stopping conditioned on metric `val_loss` which is not available. Available metrics are: loss,accuracy\n",
      "WARNING:tensorflow:Can save best model only with val_loss available, skipping.\n",
      "1563/1563 [==============================] - 10s 6ms/step - loss: 2.4527 - accuracy: 0.1622\n",
      "Epoch 9/20\n",
      "1562/1563 [============================>.] - ETA: 0s - loss: 2.3634 - accuracy: 0.1738WARNING:tensorflow:Early stopping conditioned on metric `val_loss` which is not available. Available metrics are: loss,accuracy\n",
      "WARNING:tensorflow:Can save best model only with val_loss available, skipping.\n",
      "1563/1563 [==============================] - 9s 6ms/step - loss: 2.3634 - accuracy: 0.1738\n",
      "Epoch 10/20\n",
      "1555/1563 [============================>.] - ETA: 0s - loss: 2.2973 - accuracy: 0.1837WARNING:tensorflow:Early stopping conditioned on metric `val_loss` which is not available. Available metrics are: loss,accuracy\n",
      "WARNING:tensorflow:Can save best model only with val_loss available, skipping.\n",
      "1563/1563 [==============================] - 9s 6ms/step - loss: 2.2971 - accuracy: 0.1838\n",
      "Epoch 11/20\n",
      "1558/1563 [============================>.] - ETA: 0s - loss: 2.2471 - accuracy: 0.1941WARNING:tensorflow:Early stopping conditioned on metric `val_loss` which is not available. Available metrics are: loss,accuracy\n",
      "WARNING:tensorflow:Can save best model only with val_loss available, skipping.\n",
      "1563/1563 [==============================] - 9s 6ms/step - loss: 2.2468 - accuracy: 0.1943\n",
      "Epoch 12/20\n",
      "1555/1563 [============================>.] - ETA: 0s - loss: 2.2059 - accuracy: 0.2031WARNING:tensorflow:Early stopping conditioned on metric `val_loss` which is not available. Available metrics are: loss,accuracy\n",
      "WARNING:tensorflow:Can save best model only with val_loss available, skipping.\n",
      "1563/1563 [==============================] - 9s 6ms/step - loss: 2.2060 - accuracy: 0.2029\n",
      "Epoch 13/20\n",
      "1559/1563 [============================>.] - ETA: 0s - loss: 2.1733 - accuracy: 0.2104WARNING:tensorflow:Early stopping conditioned on metric `val_loss` which is not available. Available metrics are: loss,accuracy\n",
      "WARNING:tensorflow:Can save best model only with val_loss available, skipping.\n",
      "1563/1563 [==============================] - 9s 6ms/step - loss: 2.1733 - accuracy: 0.2103\n",
      "Epoch 14/20\n",
      "1563/1563 [==============================] - ETA: 0s - loss: 2.1457 - accuracy: 0.2202WARNING:tensorflow:Early stopping conditioned on metric `val_loss` which is not available. Available metrics are: loss,accuracy\n",
      "WARNING:tensorflow:Can save best model only with val_loss available, skipping.\n",
      "1563/1563 [==============================] - 10s 6ms/step - loss: 2.1457 - accuracy: 0.2202\n",
      "Epoch 15/20\n",
      "1557/1563 [============================>.] - ETA: 0s - loss: 2.1212 - accuracy: 0.2259WARNING:tensorflow:Early stopping conditioned on metric `val_loss` which is not available. Available metrics are: loss,accuracy\n",
      "WARNING:tensorflow:Can save best model only with val_loss available, skipping.\n",
      "1563/1563 [==============================] - 11s 7ms/step - loss: 2.1212 - accuracy: 0.2258\n",
      "Epoch 16/20\n",
      "1560/1563 [============================>.] - ETA: 0s - loss: 2.1011 - accuracy: 0.2306WARNING:tensorflow:Early stopping conditioned on metric `val_loss` which is not available. Available metrics are: loss,accuracy\n",
      "WARNING:tensorflow:Can save best model only with val_loss available, skipping.\n",
      "1563/1563 [==============================] - 12s 8ms/step - loss: 2.1011 - accuracy: 0.2306\n",
      "Epoch 17/20\n",
      "1556/1563 [============================>.] - ETA: 0s - loss: 2.0828 - accuracy: 0.2385WARNING:tensorflow:Early stopping conditioned on metric `val_loss` which is not available. Available metrics are: loss,accuracy\n",
      "WARNING:tensorflow:Can save best model only with val_loss available, skipping.\n",
      "1563/1563 [==============================] - 11s 7ms/step - loss: 2.0821 - accuracy: 0.2389\n",
      "Epoch 18/20\n",
      "1559/1563 [============================>.] - ETA: 0s - loss: 2.0657 - accuracy: 0.2433WARNING:tensorflow:Early stopping conditioned on metric `val_loss` which is not available. Available metrics are: loss,accuracy\n",
      "WARNING:tensorflow:Can save best model only with val_loss available, skipping.\n",
      "1563/1563 [==============================] - 11s 7ms/step - loss: 2.0660 - accuracy: 0.2433\n",
      "Epoch 19/20\n",
      "1562/1563 [============================>.] - ETA: 0s - loss: 2.0520 - accuracy: 0.2496WARNING:tensorflow:Early stopping conditioned on metric `val_loss` which is not available. Available metrics are: loss,accuracy\n",
      "WARNING:tensorflow:Can save best model only with val_loss available, skipping.\n",
      "1563/1563 [==============================] - 9s 6ms/step - loss: 2.0521 - accuracy: 0.2495\n",
      "Epoch 20/20\n",
      "1558/1563 [============================>.] - ETA: 0s - loss: 2.0393 - accuracy: 0.2528WARNING:tensorflow:Early stopping conditioned on metric `val_loss` which is not available. Available metrics are: loss,accuracy\n",
      "WARNING:tensorflow:Can save best model only with val_loss available, skipping.\n",
      "1563/1563 [==============================] - 10s 6ms/step - loss: 2.0395 - accuracy: 0.2528\n"
     ]
    },
    {
     "data": {
      "text/plain": [
       "<keras.callbacks.History at 0x1d127e09790>"
      ]
     },
     "execution_count": 23,
     "metadata": {},
     "output_type": "execute_result"
    }
   ],
   "source": [
    "model = Sequential()\n",
    "model.add(Flatten(input_shape=[32, 32, 3]))\n",
    "for _ in range(20):\n",
    "    model.add(Dense(100,\n",
    "                    activation=\"swish\",\n",
    "                    kernel_initializer=\"he_normal\"))\n",
    "model.add(Dense(10, activation=softmax))\n",
    "\n",
    "optimizer = Nadam(learning_rate=1e-6)\n",
    "model.compile(loss=sparse_categorical_crossentropy,\n",
    "              optimizer=optimizer,\n",
    "              metrics=[\"accuracy\"])\n",
    "\n",
    "early_stopping_cb = EarlyStopping(patience=20,\n",
    "                                  restore_best_weights=True)\n",
    "model_checkpoint_cb = ModelCheckpoint('chack',\n",
    "                                      save_best_only=True)\n",
    "run_index = 1 # increment every time you train the model\n",
    "run_logdir = Path() / \"my_cifar10_logs\" / f\"run_{run_index:03d}\"\n",
    "tensorboard_cb = tf.keras.callbacks.TensorBoard(run_logdir)\n",
    "callbacks = [early_stopping_cb, model_checkpoint_cb, tensorboard_cb]\n",
    "\n",
    "%load_ext tensorboard\n",
    "%tensorboard --logdir=./my_cifar10_logs\n",
    "\n",
    "model.fit(X_train, y_train, epochs=20,\n",
    "          validation_batch_size=0.2,\n",
    "          callbacks=callbacks)"
   ]
  }
 ],
 "metadata": {
  "kernelspec": {
   "display_name": "Python 3",
   "language": "python",
   "name": "python3"
  },
  "language_info": {
   "codemirror_mode": {
    "name": "ipython",
    "version": 3
   },
   "file_extension": ".py",
   "mimetype": "text/x-python",
   "name": "python",
   "nbconvert_exporter": "python",
   "pygments_lexer": "ipython3",
   "version": "3.11.4"
  },
  "orig_nbformat": 4
 },
 "nbformat": 4,
 "nbformat_minor": 2
}
