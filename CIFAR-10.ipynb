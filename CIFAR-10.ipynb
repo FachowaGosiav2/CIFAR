{
 "cells": [
  {
   "cell_type": "code",
   "execution_count": 39,
   "metadata": {},
   "outputs": [],
   "source": [
    "import keras_tuner as kt\n",
    "import tensorflow as tf\n",
    "from tensorflow import keras\n",
    "import pandas as pd\n",
    "import numpy as np "
   ]
  },
  {
   "attachments": {},
   "cell_type": "markdown",
   "metadata": {},
   "source": [
    "Label\tDescription\n",
    "0\tairplane\n",
    "1\tautomobile\n",
    "2\tbird\n",
    "3\tcat\n",
    "4\tdeer\n",
    "5\tdog\n",
    "6\tfrog\n",
    "7\thorse\n",
    "8\tship\n",
    "9\ttruck"
   ]
  },
  {
   "cell_type": "code",
   "execution_count": 40,
   "metadata": {},
   "outputs": [],
   "source": [
    "(X_train, y_train), (X_test, y_test) = keras.datasets.cifar10.load_data()\n",
    "assert X_train.shape == (50000, 32, 32, 3)\n",
    "assert X_test.shape == (10000, 32, 32, 3)\n",
    "assert y_train.shape == (50000, 1)\n",
    "assert y_test.shape == (10000, 1)"
   ]
  },
  {
   "cell_type": "code",
   "execution_count": 41,
   "metadata": {},
   "outputs": [],
   "source": [
    "import keras_tuner as kt\n",
    "from keras.layers import Normalization, Dense, BatchNormalization, Flatten, Dropout, Activation\n",
    "from keras import Sequential\n",
    "from keras.activations import relu, softmax, sigmoid, swish\n",
    "from keras.optimizers import Nadam\n",
    "from keras.initializers import he_normal\n",
    "from keras.metrics import sparse_categorical_crossentropy\n",
    "from keras.callbacks import EarlyStopping, ModelCheckpoint"
   ]
  },
  {
   "cell_type": "code",
   "execution_count": 42,
   "metadata": {},
   "outputs": [],
   "source": [
    "tf.keras.backend.clear_session()\n",
    "tf.random.set_seed(42)"
   ]
  },
  {
   "cell_type": "code",
   "execution_count": 43,
   "metadata": {},
   "outputs": [],
   "source": [
    "model = Sequential()\n",
    "model.add(Flatten(input_shape=[32, 32, 3]))"
   ]
  },
  {
   "cell_type": "code",
   "execution_count": 44,
   "metadata": {},
   "outputs": [
    {
     "name": "stdout",
     "output_type": "stream",
     "text": [
      "Unexpected exception formatting exception. Falling back to standard exception\n"
     ]
    },
    {
     "name": "stderr",
     "output_type": "stream",
     "text": [
      "Traceback (most recent call last):\n",
      "  File \"C:\\Users\\gracj\\AppData\\Roaming\\Python\\Python311\\site-packages\\IPython\\core\\interactiveshell.py\", line 3460, in run_code\n",
      "    exec(code_obj, self.user_global_ns, self.user_ns)\n",
      "  File \"C:\\Users\\gracj\\AppData\\Local\\Temp\\ipykernel_14716\\3531385569.py\", line 1, in <module>\n",
      "    model.add(Dense(1000,\n",
      "  File \"c:\\Users\\gracj\\AppData\\Local\\Programs\\Python\\Python311\\Lib\\site-packages\\tensorflow\\python\\trackable\\base.py\", line 205, in _method_wrapper\n",
      "    result = method(self, *args, **kwargs)\n",
      "             ^^^^^^^^^^^^^^^^^^^^^^^^^^^^^\n",
      "  File \"c:\\Users\\gracj\\AppData\\Local\\Programs\\Python\\Python311\\Lib\\site-packages\\keras\\utils\\traceback_utils.py\", line 70, in error_handler\n",
      "    raise e.with_traceback(filtered_tb) from None\n",
      "  File \"c:\\Users\\gracj\\AppData\\Local\\Programs\\Python\\Python311\\Lib\\site-packages\\keras\\utils\\traceback_utils.py\", line 67, in error_handler\n",
      "    filtered_tb = _process_traceback_frames(e.__traceback__)\n",
      "                  ^^^^^^^^^^^^^^^^^^^^^^^^^^^^^^^^^^^^^^^^^^\n",
      "TypeError: Sequential.add() takes 2 positional arguments but 3 were given\n",
      "\n",
      "During handling of the above exception, another exception occurred:\n",
      "\n",
      "Traceback (most recent call last):\n",
      "  File \"C:\\Users\\gracj\\AppData\\Roaming\\Python\\Python311\\site-packages\\IPython\\core\\interactiveshell.py\", line 2057, in showtraceback\n",
      "    stb = self.InteractiveTB.structured_traceback(\n",
      "          ^^^^^^^^^^^^^^^^^^^^^^^^^^^^^^^^^^^^^^^^\n",
      "  File \"C:\\Users\\gracj\\AppData\\Roaming\\Python\\Python311\\site-packages\\IPython\\core\\ultratb.py\", line 1288, in structured_traceback\n",
      "    return FormattedTB.structured_traceback(\n",
      "           ^^^^^^^^^^^^^^^^^^^^^^^^^^^^^^^^^\n",
      "  File \"C:\\Users\\gracj\\AppData\\Roaming\\Python\\Python311\\site-packages\\IPython\\core\\ultratb.py\", line 1177, in structured_traceback\n",
      "    return VerboseTB.structured_traceback(\n",
      "           ^^^^^^^^^^^^^^^^^^^^^^^^^^^^^^^\n",
      "  File \"C:\\Users\\gracj\\AppData\\Roaming\\Python\\Python311\\site-packages\\IPython\\core\\ultratb.py\", line 1030, in structured_traceback\n",
      "    formatted_exception = self.format_exception_as_a_whole(etype, evalue, etb, number_of_lines_of_context,\n",
      "                          ^^^^^^^^^^^^^^^^^^^^^^^^^^^^^^^^^^^^^^^^^^^^^^^^^^^^^^^^^^^^^^^^^^^^^^^^^^^^^^^^\n",
      "  File \"C:\\Users\\gracj\\AppData\\Roaming\\Python\\Python311\\site-packages\\IPython\\core\\ultratb.py\", line 935, in format_exception_as_a_whole\n",
      "    self.get_records(etb, number_of_lines_of_context, tb_offset) if etb else []\n",
      "    ^^^^^^^^^^^^^^^^^^^^^^^^^^^^^^^^^^^^^^^^^^^^^^^^^^^^^^^^^^^^\n",
      "  File \"C:\\Users\\gracj\\AppData\\Roaming\\Python\\Python311\\site-packages\\IPython\\core\\ultratb.py\", line 1017, in get_records\n",
      "    res = list(stack_data.FrameInfo.stack_data(etb, options=options))[tb_offset:]\n",
      "          ^^^^^^^^^^^^^^^^^^^^^^^^^^^^^^^^^^^^^^^^^^^^^^^^^^^^^^^^^^^\n",
      "  File \"C:\\Users\\gracj\\AppData\\Roaming\\Python\\Python311\\site-packages\\stack_data\\core.py\", line 597, in stack_data\n",
      "    yield from collapse_repeated(\n",
      "  File \"C:\\Users\\gracj\\AppData\\Roaming\\Python\\Python311\\site-packages\\stack_data\\utils.py\", line 83, in collapse_repeated\n",
      "    yield from map(mapper, original_group)\n",
      "  File \"C:\\Users\\gracj\\AppData\\Roaming\\Python\\Python311\\site-packages\\stack_data\\core.py\", line 587, in mapper\n",
      "    return cls(f, options)\n",
      "           ^^^^^^^^^^^^^^^\n",
      "  File \"C:\\Users\\gracj\\AppData\\Roaming\\Python\\Python311\\site-packages\\stack_data\\core.py\", line 551, in __init__\n",
      "    self.executing = Source.executing(frame_or_tb)\n",
      "                     ^^^^^^^^^^^^^^^^^^^^^^^^^^^^^\n",
      "  File \"C:\\Users\\gracj\\AppData\\Roaming\\Python\\Python311\\site-packages\\executing\\executing.py\", line 378, in executing\n",
      "    assert_(new_stmts <= stmts)\n",
      "  File \"C:\\Users\\gracj\\AppData\\Roaming\\Python\\Python311\\site-packages\\executing\\executing.py\", line 154, in assert_\n",
      "    raise AssertionError(str(message))\n",
      "AssertionError\n"
     ]
    }
   ],
   "source": [
    "model.add(Dense(1000,\n",
    "                    kernel_initializer=he_normal),\n",
    "          Activation(swish))\n",
    "\n",
    "for _ in range(20):\n",
    "    model.add(Dense(200,\n",
    "                    kernel_initializer=he_normal),\n",
    "          Activation(swish))\n",
    "    \n",
    "for _ in range(10):\n",
    "    model.add(Dense(400,\n",
    "                    kernel_initializer=he_normal),\n",
    "          Activation(swish))"
   ]
  },
  {
   "cell_type": "code",
   "execution_count": 45,
   "metadata": {},
   "outputs": [],
   "source": [
    "model.add(Dense(10, activation=softmax))"
   ]
  },
  {
   "cell_type": "code",
   "execution_count": 46,
   "metadata": {},
   "outputs": [],
   "source": [
    "optimizer = Nadam(learning_rate=5e-5)\n",
    "model.compile(loss=sparse_categorical_crossentropy,\n",
    "              optimizer=optimizer,\n",
    "              metrics=[\"accuracy\"])"
   ]
  },
  {
   "cell_type": "code",
   "execution_count": 47,
   "metadata": {},
   "outputs": [],
   "source": [
    "early_stopping_cb = EarlyStopping(patience=20,\n",
    "                                  restore_best_weights=True)\n",
    "model_checkpoint_cb = ModelCheckpoint('chack',\n",
    "                                      save_best_only=True)"
   ]
  },
  {
   "cell_type": "code",
   "execution_count": 48,
   "metadata": {},
   "outputs": [],
   "source": [
    "from pathlib import Path\n",
    "\n",
    "run_index = 1 # increment every time you train the model\n",
    "run_logdir = Path() / \"my_cifar10_logs\" / f\"run_{run_index:03d}\"\n",
    "tensorboard_cb = tf.keras.callbacks.TensorBoard(run_logdir)\n",
    "callbacks = [early_stopping_cb, model_checkpoint_cb, tensorboard_cb]"
   ]
  },
  {
   "cell_type": "code",
   "execution_count": 49,
   "metadata": {},
   "outputs": [
    {
     "name": "stdout",
     "output_type": "stream",
     "text": [
      "The tensorboard extension is already loaded. To reload it, use:\n",
      "  %reload_ext tensorboard\n"
     ]
    },
    {
     "data": {
      "text/plain": [
       "Reusing TensorBoard on port 6006 (pid 4020), started 1:19:51 ago. (Use '!kill 4020' to kill it.)"
      ]
     },
     "metadata": {},
     "output_type": "display_data"
    },
    {
     "data": {
      "text/html": [
       "\n",
       "      <iframe id=\"tensorboard-frame-eb9de1630e483c1d\" width=\"100%\" height=\"800\" frameborder=\"0\">\n",
       "      </iframe>\n",
       "      <script>\n",
       "        (function() {\n",
       "          const frame = document.getElementById(\"tensorboard-frame-eb9de1630e483c1d\");\n",
       "          const url = new URL(\"http://localhost\");\n",
       "          const port = 6006;\n",
       "          if (port) {\n",
       "            url.port = port;\n",
       "          }\n",
       "          frame.src = url;\n",
       "        })();\n",
       "      </script>\n",
       "    "
      ],
      "text/plain": [
       "<IPython.core.display.HTML object>"
      ]
     },
     "metadata": {},
     "output_type": "display_data"
    }
   ],
   "source": [
    "%load_ext tensorboard\n",
    "%tensorboard --logdir=./my_cifar10_logs"
   ]
  },
  {
   "cell_type": "code",
   "execution_count": 50,
   "metadata": {},
   "outputs": [
    {
     "name": "stdout",
     "output_type": "stream",
     "text": [
      "Epoch 1/100\n",
      "1552/1563 [============================>.] - ETA: 0s - loss: 54.6884 - accuracy: 0.2015WARNING:tensorflow:Early stopping conditioned on metric `val_loss` which is not available. Available metrics are: loss,accuracy\n",
      "WARNING:tensorflow:Can save best model only with val_loss available, skipping.\n",
      "1563/1563 [==============================] - 2s 925us/step - loss: 54.5862 - accuracy: 0.2016\n",
      "Epoch 2/100\n",
      "1526/1563 [============================>.] - ETA: 0s - loss: 35.2475 - accuracy: 0.2420WARNING:tensorflow:Early stopping conditioned on metric `val_loss` which is not available. Available metrics are: loss,accuracy\n",
      "WARNING:tensorflow:Can save best model only with val_loss available, skipping.\n",
      "1563/1563 [==============================] - 1s 939us/step - loss: 35.1883 - accuracy: 0.2424\n",
      "Epoch 3/100\n",
      "1541/1563 [============================>.] - ETA: 0s - loss: 29.2893 - accuracy: 0.2519WARNING:tensorflow:Early stopping conditioned on metric `val_loss` which is not available. Available metrics are: loss,accuracy\n",
      "WARNING:tensorflow:Can save best model only with val_loss available, skipping.\n",
      "1563/1563 [==============================] - 1s 928us/step - loss: 29.2575 - accuracy: 0.2520\n",
      "Epoch 4/100\n",
      "1559/1563 [============================>.] - ETA: 0s - loss: 25.6542 - accuracy: 0.2589WARNING:tensorflow:Early stopping conditioned on metric `val_loss` which is not available. Available metrics are: loss,accuracy\n",
      "WARNING:tensorflow:Can save best model only with val_loss available, skipping.\n",
      "1563/1563 [==============================] - 1s 953us/step - loss: 25.6546 - accuracy: 0.2588\n",
      "Epoch 5/100\n",
      "1549/1563 [============================>.] - ETA: 0s - loss: 23.0976 - accuracy: 0.2657WARNING:tensorflow:Early stopping conditioned on metric `val_loss` which is not available. Available metrics are: loss,accuracy\n",
      "WARNING:tensorflow:Can save best model only with val_loss available, skipping.\n",
      "1563/1563 [==============================] - 1s 954us/step - loss: 23.0862 - accuracy: 0.2656\n",
      "Epoch 6/100\n",
      "1555/1563 [============================>.] - ETA: 0s - loss: 21.1819 - accuracy: 0.2714WARNING:tensorflow:Early stopping conditioned on metric `val_loss` which is not available. Available metrics are: loss,accuracy\n",
      "WARNING:tensorflow:Can save best model only with val_loss available, skipping.\n",
      "1563/1563 [==============================] - 1s 950us/step - loss: 21.1737 - accuracy: 0.2714\n",
      "Epoch 7/100\n",
      "1516/1563 [============================>.] - ETA: 0s - loss: 19.5793 - accuracy: 0.2741WARNING:tensorflow:Early stopping conditioned on metric `val_loss` which is not available. Available metrics are: loss,accuracy\n",
      "WARNING:tensorflow:Can save best model only with val_loss available, skipping.\n",
      "1563/1563 [==============================] - 1s 945us/step - loss: 19.5702 - accuracy: 0.2738\n",
      "Epoch 8/100\n",
      "1543/1563 [============================>.] - ETA: 0s - loss: 18.3124 - accuracy: 0.2759WARNING:tensorflow:Early stopping conditioned on metric `val_loss` which is not available. Available metrics are: loss,accuracy\n",
      "WARNING:tensorflow:Can save best model only with val_loss available, skipping.\n",
      "1563/1563 [==============================] - 2s 961us/step - loss: 18.2978 - accuracy: 0.2758\n",
      "Epoch 9/100\n",
      "1530/1563 [============================>.] - ETA: 0s - loss: 17.2582 - accuracy: 0.2771WARNING:tensorflow:Early stopping conditioned on metric `val_loss` which is not available. Available metrics are: loss,accuracy\n",
      "WARNING:tensorflow:Can save best model only with val_loss available, skipping.\n",
      "1563/1563 [==============================] - 1s 933us/step - loss: 17.2582 - accuracy: 0.2772\n",
      "Epoch 10/100\n",
      "1526/1563 [============================>.] - ETA: 0s - loss: 16.3096 - accuracy: 0.2810WARNING:tensorflow:Early stopping conditioned on metric `val_loss` which is not available. Available metrics are: loss,accuracy\n",
      "WARNING:tensorflow:Can save best model only with val_loss available, skipping.\n",
      "1563/1563 [==============================] - 1s 939us/step - loss: 16.3076 - accuracy: 0.2808\n",
      "Epoch 11/100\n",
      "1510/1563 [===========================>..] - ETA: 0s - loss: 15.6097 - accuracy: 0.2825WARNING:tensorflow:Early stopping conditioned on metric `val_loss` which is not available. Available metrics are: loss,accuracy\n",
      "WARNING:tensorflow:Can save best model only with val_loss available, skipping.\n",
      "1563/1563 [==============================] - 1s 944us/step - loss: 15.6013 - accuracy: 0.2825\n",
      "Epoch 12/100\n",
      "1561/1563 [============================>.] - ETA: 0s - loss: 14.8885 - accuracy: 0.2825WARNING:tensorflow:Early stopping conditioned on metric `val_loss` which is not available. Available metrics are: loss,accuracy\n",
      "WARNING:tensorflow:Can save best model only with val_loss available, skipping.\n",
      "1563/1563 [==============================] - 2s 982us/step - loss: 14.8871 - accuracy: 0.2825\n",
      "Epoch 13/100\n",
      "1525/1563 [============================>.] - ETA: 0s - loss: 14.2685 - accuracy: 0.2877WARNING:tensorflow:Early stopping conditioned on metric `val_loss` which is not available. Available metrics are: loss,accuracy\n",
      "WARNING:tensorflow:Can save best model only with val_loss available, skipping.\n",
      "1563/1563 [==============================] - 2s 971us/step - loss: 14.2470 - accuracy: 0.2880\n",
      "Epoch 14/100\n",
      "1539/1563 [============================>.] - ETA: 0s - loss: 13.7257 - accuracy: 0.2865WARNING:tensorflow:Early stopping conditioned on metric `val_loss` which is not available. Available metrics are: loss,accuracy\n",
      "WARNING:tensorflow:Can save best model only with val_loss available, skipping.\n",
      "1563/1563 [==============================] - 2s 976us/step - loss: 13.7266 - accuracy: 0.2864\n",
      "Epoch 15/100\n",
      "1558/1563 [============================>.] - ETA: 0s - loss: 13.2083 - accuracy: 0.2900WARNING:tensorflow:Early stopping conditioned on metric `val_loss` which is not available. Available metrics are: loss,accuracy\n",
      "WARNING:tensorflow:Can save best model only with val_loss available, skipping.\n",
      "1563/1563 [==============================] - 1s 954us/step - loss: 13.2103 - accuracy: 0.2898\n",
      "Epoch 16/100\n",
      "1547/1563 [============================>.] - ETA: 0s - loss: 12.7561 - accuracy: 0.2883WARNING:tensorflow:Early stopping conditioned on metric `val_loss` which is not available. Available metrics are: loss,accuracy\n",
      "WARNING:tensorflow:Can save best model only with val_loss available, skipping.\n",
      "1563/1563 [==============================] - 2s 993us/step - loss: 12.7429 - accuracy: 0.2887\n",
      "Epoch 17/100\n",
      "1514/1563 [============================>.] - ETA: 0s - loss: 12.3251 - accuracy: 0.2924WARNING:tensorflow:Early stopping conditioned on metric `val_loss` which is not available. Available metrics are: loss,accuracy\n",
      "WARNING:tensorflow:Can save best model only with val_loss available, skipping.\n",
      "1563/1563 [==============================] - 2s 979us/step - loss: 12.3186 - accuracy: 0.2924\n",
      "Epoch 18/100\n",
      "1522/1563 [============================>.] - ETA: 0s - loss: 11.8861 - accuracy: 0.2939WARNING:tensorflow:Early stopping conditioned on metric `val_loss` which is not available. Available metrics are: loss,accuracy\n",
      "WARNING:tensorflow:Can save best model only with val_loss available, skipping.\n",
      "1563/1563 [==============================] - 2s 977us/step - loss: 11.9118 - accuracy: 0.2933\n",
      "Epoch 19/100\n",
      "1563/1563 [==============================] - ETA: 0s - loss: 11.6096 - accuracy: 0.2920WARNING:tensorflow:Early stopping conditioned on metric `val_loss` which is not available. Available metrics are: loss,accuracy\n",
      "WARNING:tensorflow:Can save best model only with val_loss available, skipping.\n",
      "1563/1563 [==============================] - 1s 945us/step - loss: 11.6096 - accuracy: 0.2920\n",
      "Epoch 20/100\n",
      "1536/1563 [============================>.] - ETA: 0s - loss: 11.2575 - accuracy: 0.2946WARNING:tensorflow:Early stopping conditioned on metric `val_loss` which is not available. Available metrics are: loss,accuracy\n",
      "WARNING:tensorflow:Can save best model only with val_loss available, skipping.\n",
      "1563/1563 [==============================] - 2s 1ms/step - loss: 11.2662 - accuracy: 0.2942\n",
      "Epoch 21/100\n",
      "1540/1563 [============================>.] - ETA: 0s - loss: 10.9651 - accuracy: 0.2922WARNING:tensorflow:Early stopping conditioned on metric `val_loss` which is not available. Available metrics are: loss,accuracy\n",
      "WARNING:tensorflow:Can save best model only with val_loss available, skipping.\n",
      "1563/1563 [==============================] - 2s 960us/step - loss: 10.9720 - accuracy: 0.2922\n",
      "Epoch 22/100\n",
      "1561/1563 [============================>.] - ETA: 0s - loss: 10.6412 - accuracy: 0.2972WARNING:tensorflow:Early stopping conditioned on metric `val_loss` which is not available. Available metrics are: loss,accuracy\n",
      "WARNING:tensorflow:Can save best model only with val_loss available, skipping.\n",
      "1563/1563 [==============================] - 1s 951us/step - loss: 10.6410 - accuracy: 0.2971\n",
      "Epoch 23/100\n",
      "1535/1563 [============================>.] - ETA: 0s - loss: 10.3769 - accuracy: 0.2946WARNING:tensorflow:Early stopping conditioned on metric `val_loss` which is not available. Available metrics are: loss,accuracy\n",
      "WARNING:tensorflow:Can save best model only with val_loss available, skipping.\n",
      "1563/1563 [==============================] - 2s 966us/step - loss: 10.3809 - accuracy: 0.2944\n",
      "Epoch 24/100\n",
      "1515/1563 [============================>.] - ETA: 0s - loss: 10.1325 - accuracy: 0.2970WARNING:tensorflow:Early stopping conditioned on metric `val_loss` which is not available. Available metrics are: loss,accuracy\n",
      "WARNING:tensorflow:Can save best model only with val_loss available, skipping.\n",
      "1563/1563 [==============================] - 1s 944us/step - loss: 10.1380 - accuracy: 0.2972\n",
      "Epoch 25/100\n",
      "1540/1563 [============================>.] - ETA: 0s - loss: 9.9203 - accuracy: 0.2969WARNING:tensorflow:Early stopping conditioned on metric `val_loss` which is not available. Available metrics are: loss,accuracy\n",
      "WARNING:tensorflow:Can save best model only with val_loss available, skipping.\n",
      "1563/1563 [==============================] - 2s 960us/step - loss: 9.9307 - accuracy: 0.2964\n",
      "Epoch 26/100\n",
      "1549/1563 [============================>.] - ETA: 0s - loss: 9.7078 - accuracy: 0.2967WARNING:tensorflow:Early stopping conditioned on metric `val_loss` which is not available. Available metrics are: loss,accuracy\n",
      "WARNING:tensorflow:Can save best model only with val_loss available, skipping.\n",
      "1563/1563 [==============================] - 1s 955us/step - loss: 9.7127 - accuracy: 0.2969\n",
      "Epoch 27/100\n",
      "1523/1563 [============================>.] - ETA: 0s - loss: 9.5000 - accuracy: 0.2997WARNING:tensorflow:Early stopping conditioned on metric `val_loss` which is not available. Available metrics are: loss,accuracy\n",
      "WARNING:tensorflow:Can save best model only with val_loss available, skipping.\n",
      "1563/1563 [==============================] - 1s 937us/step - loss: 9.4958 - accuracy: 0.2994\n",
      "Epoch 28/100\n",
      "1550/1563 [============================>.] - ETA: 0s - loss: 9.2990 - accuracy: 0.3005WARNING:tensorflow:Early stopping conditioned on metric `val_loss` which is not available. Available metrics are: loss,accuracy\n",
      "WARNING:tensorflow:Can save best model only with val_loss available, skipping.\n",
      "1563/1563 [==============================] - 1s 956us/step - loss: 9.2982 - accuracy: 0.3004\n",
      "Epoch 29/100\n",
      "1556/1563 [============================>.] - ETA: 0s - loss: 9.1320 - accuracy: 0.3005WARNING:tensorflow:Early stopping conditioned on metric `val_loss` which is not available. Available metrics are: loss,accuracy\n",
      "WARNING:tensorflow:Can save best model only with val_loss available, skipping.\n",
      "1563/1563 [==============================] - 1s 918us/step - loss: 9.1271 - accuracy: 0.3007\n",
      "Epoch 30/100\n",
      "1510/1563 [===========================>..] - ETA: 0s - loss: 8.9675 - accuracy: 0.2977WARNING:tensorflow:Early stopping conditioned on metric `val_loss` which is not available. Available metrics are: loss,accuracy\n",
      "WARNING:tensorflow:Can save best model only with val_loss available, skipping.\n",
      "1563/1563 [==============================] - 1s 912us/step - loss: 8.9813 - accuracy: 0.2975\n",
      "Epoch 31/100\n",
      "1562/1563 [============================>.] - ETA: 0s - loss: 8.8179 - accuracy: 0.3021WARNING:tensorflow:Early stopping conditioned on metric `val_loss` which is not available. Available metrics are: loss,accuracy\n",
      "WARNING:tensorflow:Can save best model only with val_loss available, skipping.\n",
      "1563/1563 [==============================] - 1s 918us/step - loss: 8.8169 - accuracy: 0.3022\n",
      "Epoch 32/100\n",
      "1510/1563 [===========================>..] - ETA: 0s - loss: 8.5812 - accuracy: 0.3011WARNING:tensorflow:Early stopping conditioned on metric `val_loss` which is not available. Available metrics are: loss,accuracy\n",
      "WARNING:tensorflow:Can save best model only with val_loss available, skipping.\n",
      "1563/1563 [==============================] - 1s 917us/step - loss: 8.5876 - accuracy: 0.3010\n",
      "Epoch 33/100\n",
      "1554/1563 [============================>.] - ETA: 0s - loss: 8.5105 - accuracy: 0.3029WARNING:tensorflow:Early stopping conditioned on metric `val_loss` which is not available. Available metrics are: loss,accuracy\n",
      "WARNING:tensorflow:Can save best model only with val_loss available, skipping.\n",
      "1563/1563 [==============================] - 1s 955us/step - loss: 8.5085 - accuracy: 0.3030\n",
      "Epoch 34/100\n",
      "1543/1563 [============================>.] - ETA: 0s - loss: 8.3027 - accuracy: 0.3027WARNING:tensorflow:Early stopping conditioned on metric `val_loss` which is not available. Available metrics are: loss,accuracy\n",
      "WARNING:tensorflow:Can save best model only with val_loss available, skipping.\n",
      "1563/1563 [==============================] - 2s 1ms/step - loss: 8.2959 - accuracy: 0.3028\n",
      "Epoch 35/100\n",
      "1544/1563 [============================>.] - ETA: 0s - loss: 8.2496 - accuracy: 0.3031WARNING:tensorflow:Early stopping conditioned on metric `val_loss` which is not available. Available metrics are: loss,accuracy\n",
      "WARNING:tensorflow:Can save best model only with val_loss available, skipping.\n",
      "1563/1563 [==============================] - 2s 1ms/step - loss: 8.2507 - accuracy: 0.3029\n",
      "Epoch 36/100\n",
      "1547/1563 [============================>.] - ETA: 0s - loss: 8.0798 - accuracy: 0.3052WARNING:tensorflow:Early stopping conditioned on metric `val_loss` which is not available. Available metrics are: loss,accuracy\n",
      "WARNING:tensorflow:Can save best model only with val_loss available, skipping.\n",
      "1563/1563 [==============================] - 1s 956us/step - loss: 8.0715 - accuracy: 0.3053\n",
      "Epoch 37/100\n",
      "1559/1563 [============================>.] - ETA: 0s - loss: 7.9215 - accuracy: 0.3051WARNING:tensorflow:Early stopping conditioned on metric `val_loss` which is not available. Available metrics are: loss,accuracy\n",
      "WARNING:tensorflow:Can save best model only with val_loss available, skipping.\n",
      "1563/1563 [==============================] - 1s 950us/step - loss: 7.9210 - accuracy: 0.3051\n",
      "Epoch 38/100\n",
      "1561/1563 [============================>.] - ETA: 0s - loss: 7.8283 - accuracy: 0.3054WARNING:tensorflow:Early stopping conditioned on metric `val_loss` which is not available. Available metrics are: loss,accuracy\n",
      "WARNING:tensorflow:Can save best model only with val_loss available, skipping.\n",
      "1563/1563 [==============================] - 2s 981us/step - loss: 7.8282 - accuracy: 0.3054\n",
      "Epoch 39/100\n",
      "1548/1563 [============================>.] - ETA: 0s - loss: 7.7157 - accuracy: 0.3071WARNING:tensorflow:Early stopping conditioned on metric `val_loss` which is not available. Available metrics are: loss,accuracy\n",
      "WARNING:tensorflow:Can save best model only with val_loss available, skipping.\n",
      "1563/1563 [==============================] - 1s 956us/step - loss: 7.7087 - accuracy: 0.3073\n",
      "Epoch 40/100\n",
      "1532/1563 [============================>.] - ETA: 0s - loss: 7.6301 - accuracy: 0.3059WARNING:tensorflow:Early stopping conditioned on metric `val_loss` which is not available. Available metrics are: loss,accuracy\n",
      "WARNING:tensorflow:Can save best model only with val_loss available, skipping.\n",
      "1563/1563 [==============================] - 2s 1ms/step - loss: 7.6282 - accuracy: 0.3059\n",
      "Epoch 41/100\n",
      "1480/1563 [===========================>..] - ETA: 0s - loss: 7.5268 - accuracy: 0.3054"
     ]
    }
   ],
   "source": [
    "model.fit(X_train, y_train, epochs=100,\n",
    "          validation_batch_size=0.2,\n",
    "          callbacks=callbacks)"
   ]
  }
 ],
 "metadata": {
  "kernelspec": {
   "display_name": "Python 3",
   "language": "python",
   "name": "python3"
  },
  "language_info": {
   "codemirror_mode": {
    "name": "ipython",
    "version": 3
   },
   "file_extension": ".py",
   "mimetype": "text/x-python",
   "name": "python",
   "nbconvert_exporter": "python",
   "pygments_lexer": "ipython3",
   "version": "3.11.4"
  },
  "orig_nbformat": 4
 },
 "nbformat": 4,
 "nbformat_minor": 2
}
